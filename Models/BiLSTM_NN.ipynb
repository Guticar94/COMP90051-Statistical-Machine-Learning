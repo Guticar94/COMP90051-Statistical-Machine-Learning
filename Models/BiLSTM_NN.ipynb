{
 "cells": [
  {
   "cell_type": "markdown",
   "metadata": {},
   "source": [
    "# 1. Data preprocessing"
   ]
  },
  {
   "cell_type": "code",
   "execution_count": 1,
   "metadata": {},
   "outputs": [],
   "source": [
    "# %pip install matplotlib scikit-learn pandas"
   ]
  },
  {
   "cell_type": "code",
   "execution_count": 2,
   "metadata": {},
   "outputs": [],
   "source": [
    "from sklearn.model_selection import train_test_split\n",
    "from sklearn.metrics import f1_score\n",
    "import numpy as np\n",
    "import pandas as pd\n",
    "import re"
   ]
  },
  {
   "cell_type": "code",
   "execution_count": 3,
   "metadata": {},
   "outputs": [
    {
     "name": "stdout",
     "output_type": "stream",
     "text": [
      "label\n",
      "0    0.81\n",
      "1    0.19\n",
      "Name: count, dtype: float64\n"
     ]
    }
   ],
   "source": [
    "# Read data\n",
    "df1 = pd.read_json('../Data/domain1_train_data.json', lines=True)\n",
    "df2 = pd.read_json('../Data/domain2_train_data.json', lines=True)\n",
    "\n",
    "# Define Domains\n",
    "df1['domain'], df2['domain'] = 1, 2\n",
    "\n",
    "# Split set 1\n",
    "x1_tr, x_dv = train_test_split(df1, stratify=df1['label'], random_state=0, test_size=0.2)\n",
    "# Split set 2\n",
    "x2_1 = df2[df2['label'] == 1].sample(500, random_state=0)\n",
    "x2_0 = df2[df2['label'] == 0].sample(500, random_state=0)\n",
    "x2_tr = df2[[i not in list(pd.concat([x2_1, x2_0]).reset_index()['index']) for i in df2.index]].reset_index(drop=True)\n",
    "x2_dev = pd.concat([x2_1,x2_0]).reset_index(drop=True)\n",
    "\n",
    "# Train test sets\n",
    "df_train = pd.concat([x1_tr, x2_tr]).sample(frac=1).reset_index(drop=True)\n",
    "df_dev = pd.concat([x_dv, x2_dev]).sample(frac=1).reset_index(drop=True)\n",
    "\n",
    "# Print classes proportion\n",
    "print(round(df_train['label'].value_counts()/len(df_train['label']),2))"
   ]
  },
  {
   "attachments": {},
   "cell_type": "markdown",
   "metadata": {},
   "source": [
    "# 3 DL Models (BiLSTM)"
   ]
  },
  {
   "cell_type": "code",
   "execution_count": 4,
   "metadata": {},
   "outputs": [
    {
     "data": {
      "text/plain": [
       "<torch._C.Generator at 0x7f0c005d2690>"
      ]
     },
     "execution_count": 4,
     "metadata": {},
     "output_type": "execute_result"
    }
   ],
   "source": [
    "import pandas as pd\n",
    "import torch\n",
    "from torch.utils.data import Dataset, DataLoader\n",
    "from torch import nn\n",
    "device = torch.device('cuda' if torch.cuda.is_available() else 'cpu')\n",
    "torch.manual_seed(42)"
   ]
  },
  {
   "cell_type": "code",
   "execution_count": 5,
   "metadata": {},
   "outputs": [],
   "source": [
    "# Weights function\n",
    "def weights(df):\n",
    "    w = list(len(df['label'])/df['label'].value_counts())\n",
    "    sample_weights = [0] * df.shape[0]\n",
    "    for idx, label in enumerate(df['label']):\n",
    "        sample_weights[idx] = w[label]\n",
    "    return sample_weights\n",
    "\n",
    "# Prepare pytorch dataset\n",
    "class Dataset(Dataset):\n",
    "    def __init__(self, text, labels):\n",
    "        self.text = text\n",
    "        self.labels = labels\n",
    "    def __len__(self):\n",
    "        return len(self.labels)\n",
    "    def __getitem__(self, idx):\n",
    "        text = torch.tensor(self.text[idx])\n",
    "        label = torch.tensor(self.labels[idx])\n",
    "        return text, label\n",
    "    \n",
    "# Define collate (pre_process) function\n",
    "def collate_batch(batch):  \n",
    "    texts, labels = zip(*batch)\n",
    "    text_len = [len(txt) for txt in texts]\n",
    "    text = nn.utils.rnn.pad_sequence(texts, batch_first=True).to(device)\n",
    "    labels = torch.tensor(labels, dtype=torch.float32).to(device).reshape(-1,1)\n",
    "    return text, labels, text_len\n",
    "\n",
    "# Create datasets\n",
    "train_DS = Dataset(df_train['text'], df_train['label'])\n",
    "dev_DS = Dataset(df_dev['text'], df_dev['label'])\n",
    "\n",
    "# Sample train data\n",
    "sampler_tr = torch.utils.data.WeightedRandomSampler(weights(df_train), num_samples=len(train_DS), replacement=True)\n",
    "\n",
    "bs =32\n",
    "x_tr_dl = DataLoader(train_DS, batch_size=bs, collate_fn=collate_batch, sampler=sampler_tr)\n",
    "x_dev_dl = DataLoader(dev_DS, batch_size=bs, collate_fn=collate_batch)"
   ]
  },
  {
   "cell_type": "code",
   "execution_count": 6,
   "metadata": {},
   "outputs": [],
   "source": [
    "# Bidirectional LSTM model\n",
    "class BiLSTM(nn.Module):\n",
    "    def __init__(self, \n",
    "                 vocab_size, \n",
    "                 embedding_dim, \n",
    "                 hidden_dim, \n",
    "                 output_dim, \n",
    "                 n_layers):\n",
    "        super(BiLSTM, self).__init__()\n",
    "        # Embeding Layer\n",
    "        self.embedding = nn.Embedding(vocab_size, embedding_dim, padding_idx=0)\n",
    "        # BiLSTM layer\n",
    "        self.lstm = nn.LSTM(embedding_dim, hidden_dim, bidirectional=True, num_layers=n_layers, batch_first=True,dropout = 0.5)\n",
    "        # Linear layer\n",
    "        self.fc = nn.Linear(hidden_dim * 2, output_dim)\n",
    "        # Dropout layer\n",
    "        self.dropout = nn.Dropout(0.5)\n",
    "        # Sigmoid layer\n",
    "        self.Sigmoid = nn.Sigmoid()\n",
    "        \n",
    "    def forward(self, text, text_lengths):\n",
    "        # Embeding \n",
    "        embedded = self.dropout(self.embedding(text))\n",
    "        # Batch packing\n",
    "        packed_embedded = nn.utils.rnn.pack_padded_sequence(embedded, text_lengths, batch_first=True, enforce_sorted=False)\n",
    "        # BiLSTM pass\n",
    "        output, (hidden, cell_state) = self.lstm(packed_embedded)\n",
    "        # Concatenate hidden states in the BiLSTM\n",
    "        hidden = self.dropout(torch.cat((hidden[-2, :, :], hidden[-1, :, :]), dim=1))\n",
    "        # Linear layer\n",
    "        linear = self.fc(hidden)\n",
    "        # Return the classifier's output\n",
    "        return self.Sigmoid(linear)"
   ]
  },
  {
   "cell_type": "code",
   "execution_count": 7,
   "metadata": {},
   "outputs": [
    {
     "name": "stdout",
     "output_type": "stream",
     "text": [
      "BiLSTM(\n",
      "  (embedding): Embedding(90000, 256, padding_idx=0)\n",
      "  (lstm): LSTM(256, 512, num_layers=2, batch_first=True, dropout=0.5, bidirectional=True)\n",
      "  (fc): Linear(in_features=1024, out_features=1, bias=True)\n",
      "  (dropout): Dropout(p=0.5, inplace=False)\n",
      "  (Sigmoid): Sigmoid()\n",
      ")\n"
     ]
    }
   ],
   "source": [
    "# Instantiate the model\n",
    "model = BiLSTM(vocab_size=90000, embedding_dim=128*2, hidden_dim=256*2, output_dim=1, n_layers=2).to(device)\n",
    "print(model)"
   ]
  },
  {
   "cell_type": "code",
   "execution_count": 8,
   "metadata": {},
   "outputs": [],
   "source": [
    "# Optimizer\n",
    "optimizer = torch.optim.Adam(model.parameters())\n",
    "\n",
    "# Loss fn\n",
    "# loss_fn = nn.BCEWithLogitsLoss()\n",
    "# Weights function\n",
    "def weights_class(y):\n",
    "    y = pd.Series(y.int().numpy(force=True).reshape(-1))\n",
    "    w = len(y)/y.value_counts()\n",
    "    try:\n",
    "        return w[1]\n",
    "        \n",
    "    except:\n",
    "        return 0"
   ]
  },
  {
   "cell_type": "code",
   "execution_count": 9,
   "metadata": {},
   "outputs": [],
   "source": [
    "from tqdm import tqdm\n",
    "from sklearn.metrics import f1_score\n",
    "# Train\n",
    "def train(dataloader, model, optimizer):\n",
    "    size = len(dataloader.dataset)\n",
    "    model.train()\n",
    "    train_loss, total, acc, real, preds = 0, 0, 0, [], []\n",
    "    for X, y, text_len in tqdm(dataloader):\n",
    "        pred = model(X, text_len)               # Forward pass\n",
    "        loss_fn = nn.BCELoss(weight = torch.tensor(weights_class(y)).to(device))\n",
    "        loss = loss_fn(pred, y)                 # Compute loss \n",
    "        loss.backward()                         # Backpropagation\n",
    "        optimizer.step()                        # Update parameters\n",
    "        optimizer.zero_grad()                   # Reset gradient\n",
    "    \n",
    "        # Metrics\n",
    "        acc += torch.sum((pred>=0.5).float() == y)\n",
    "        real.extend((y>=0.5).int().detach().cpu().numpy().reshape(-1,1))\n",
    "        preds.extend((pred>=0.5).int().detach().cpu().numpy().reshape(-1,1))\n",
    "        train_loss += loss.item()\n",
    "        total += len(y)\n",
    "    # General metrics\n",
    "    train_loss /= total\n",
    "    return train_loss, acc/size, f1_score(real, preds)"
   ]
  },
  {
   "cell_type": "code",
   "execution_count": 10,
   "metadata": {},
   "outputs": [],
   "source": [
    "# Test\n",
    "def test(dataloader, model):\n",
    "    size = len(dataloader.dataset)\n",
    "    model.eval()\n",
    "    test_loss, total, acc, real, preds = 0, 0, 0, [], []\n",
    "    with torch.no_grad():       # Specify no gradient\n",
    "        for X, y, text_len in tqdm(dataloader):\n",
    "            pred = model(X, text_len)               # Forward pass   \n",
    "            loss_fn = nn.BCELoss()\n",
    "            \n",
    "            # Metrics\n",
    "            acc += torch.sum((pred>=0.5).float() == y)\n",
    "            real.extend((y>=0.5).int().detach().cpu().numpy().reshape(-1,1))\n",
    "            preds.extend((pred>=0.5).int().detach().cpu().numpy().reshape(-1,1))\n",
    "            \n",
    "            test_loss += loss_fn(pred, y).item()    # Compute loss  \n",
    "            total += len(y)                         # Total observations\n",
    "\n",
    "    # General metrics\n",
    "    test_loss /= total\n",
    "    return test_loss, acc/size, f1_score(real, preds)"
   ]
  },
  {
   "cell_type": "code",
   "execution_count": 11,
   "metadata": {},
   "outputs": [
    {
     "name": "stdout",
     "output_type": "stream",
     "text": [
      "Training BiLSTM network model!\n"
     ]
    },
    {
     "name": "stderr",
     "output_type": "stream",
     "text": [
      "100%|██████████| 500/500 [00:54<00:00,  9.17it/s]\n",
      "100%|██████████| 63/63 [00:02<00:00, 21.57it/s]\n"
     ]
    },
    {
     "name": "stdout",
     "output_type": "stream",
     "text": [
      "epoch #0\ttrain_acc: 0.739\tvalid_acc: 0.581\n",
      "epoch #0\tf1_tr: 0.732\tf1_ts: 0.530\n"
     ]
    },
    {
     "name": "stderr",
     "output_type": "stream",
     "text": [
      "100%|██████████| 500/500 [00:53<00:00,  9.37it/s]\n",
      "100%|██████████| 63/63 [00:02<00:00, 21.55it/s]\n"
     ]
    },
    {
     "name": "stdout",
     "output_type": "stream",
     "text": [
      "epoch #1\ttrain_acc: 0.812\tvalid_acc: 0.645\n",
      "epoch #1\tf1_tr: 0.811\tf1_ts: 0.646\n"
     ]
    },
    {
     "name": "stderr",
     "output_type": "stream",
     "text": [
      "100%|██████████| 500/500 [00:53<00:00,  9.30it/s]\n",
      "100%|██████████| 63/63 [00:02<00:00, 22.34it/s]\n"
     ]
    },
    {
     "name": "stdout",
     "output_type": "stream",
     "text": [
      "epoch #2\ttrain_acc: 0.874\tvalid_acc: 0.666\n",
      "epoch #2\tf1_tr: 0.876\tf1_ts: 0.637\n"
     ]
    },
    {
     "name": "stderr",
     "output_type": "stream",
     "text": [
      "100%|██████████| 500/500 [00:55<00:00,  9.06it/s]\n",
      "100%|██████████| 63/63 [00:02<00:00, 21.51it/s]\n"
     ]
    },
    {
     "name": "stdout",
     "output_type": "stream",
     "text": [
      "epoch #3\ttrain_acc: 0.914\tvalid_acc: 0.709\n",
      "epoch #3\tf1_tr: 0.914\tf1_ts: 0.702\n"
     ]
    },
    {
     "name": "stderr",
     "output_type": "stream",
     "text": [
      "100%|██████████| 500/500 [00:55<00:00,  8.99it/s]\n",
      "100%|██████████| 63/63 [00:02<00:00, 21.64it/s]\n"
     ]
    },
    {
     "name": "stdout",
     "output_type": "stream",
     "text": [
      "epoch #4\ttrain_acc: 0.936\tvalid_acc: 0.711\n",
      "epoch #4\tf1_tr: 0.937\tf1_ts: 0.672\n"
     ]
    },
    {
     "name": "stderr",
     "output_type": "stream",
     "text": [
      "100%|██████████| 500/500 [00:55<00:00,  8.96it/s]\n",
      "100%|██████████| 63/63 [00:02<00:00, 21.82it/s]\n"
     ]
    },
    {
     "name": "stdout",
     "output_type": "stream",
     "text": [
      "epoch #5\ttrain_acc: 0.953\tvalid_acc: 0.729\n",
      "epoch #5\tf1_tr: 0.953\tf1_ts: 0.695\n"
     ]
    },
    {
     "name": "stderr",
     "output_type": "stream",
     "text": [
      "100%|██████████| 500/500 [00:56<00:00,  8.84it/s]\n",
      "100%|██████████| 63/63 [00:02<00:00, 22.85it/s]\n"
     ]
    },
    {
     "name": "stdout",
     "output_type": "stream",
     "text": [
      "epoch #6\ttrain_acc: 0.961\tvalid_acc: 0.743\n",
      "epoch #6\tf1_tr: 0.961\tf1_ts: 0.708\n"
     ]
    },
    {
     "name": "stderr",
     "output_type": "stream",
     "text": [
      "100%|██████████| 500/500 [00:55<00:00,  9.05it/s]\n",
      "100%|██████████| 63/63 [00:02<00:00, 21.78it/s]\n"
     ]
    },
    {
     "name": "stdout",
     "output_type": "stream",
     "text": [
      "epoch #7\ttrain_acc: 0.967\tvalid_acc: 0.743\n",
      "epoch #7\tf1_tr: 0.967\tf1_ts: 0.695\n"
     ]
    },
    {
     "name": "stderr",
     "output_type": "stream",
     "text": [
      "100%|██████████| 500/500 [00:55<00:00,  9.08it/s]\n",
      "100%|██████████| 63/63 [00:02<00:00, 23.44it/s]\n"
     ]
    },
    {
     "name": "stdout",
     "output_type": "stream",
     "text": [
      "epoch #8\ttrain_acc: 0.975\tvalid_acc: 0.721\n",
      "epoch #8\tf1_tr: 0.975\tf1_ts: 0.661\n"
     ]
    },
    {
     "name": "stderr",
     "output_type": "stream",
     "text": [
      "100%|██████████| 500/500 [00:55<00:00,  9.05it/s]\n",
      "100%|██████████| 63/63 [00:02<00:00, 22.04it/s]\n"
     ]
    },
    {
     "name": "stdout",
     "output_type": "stream",
     "text": [
      "epoch #9\ttrain_acc: 0.977\tvalid_acc: 0.736\n",
      "epoch #9\tf1_tr: 0.977\tf1_ts: 0.683\n"
     ]
    },
    {
     "name": "stderr",
     "output_type": "stream",
     "text": [
      "100%|██████████| 500/500 [00:56<00:00,  8.91it/s]\n",
      "100%|██████████| 63/63 [00:02<00:00, 23.21it/s]\n"
     ]
    },
    {
     "name": "stdout",
     "output_type": "stream",
     "text": [
      "epoch #10\ttrain_acc: 0.977\tvalid_acc: 0.731\n",
      "epoch #10\tf1_tr: 0.977\tf1_ts: 0.672\n"
     ]
    },
    {
     "name": "stderr",
     "output_type": "stream",
     "text": [
      "100%|██████████| 500/500 [00:56<00:00,  8.86it/s]\n",
      "100%|██████████| 63/63 [00:02<00:00, 22.96it/s]\n"
     ]
    },
    {
     "name": "stdout",
     "output_type": "stream",
     "text": [
      "epoch #11\ttrain_acc: 0.981\tvalid_acc: 0.773\n",
      "epoch #11\tf1_tr: 0.981\tf1_ts: 0.739\n"
     ]
    },
    {
     "name": "stderr",
     "output_type": "stream",
     "text": [
      "100%|██████████| 500/500 [00:55<00:00,  8.95it/s]\n",
      "100%|██████████| 63/63 [00:02<00:00, 22.18it/s]\n"
     ]
    },
    {
     "name": "stdout",
     "output_type": "stream",
     "text": [
      "epoch #12\ttrain_acc: 0.984\tvalid_acc: 0.762\n",
      "epoch #12\tf1_tr: 0.984\tf1_ts: 0.716\n"
     ]
    },
    {
     "name": "stderr",
     "output_type": "stream",
     "text": [
      "100%|██████████| 500/500 [00:54<00:00,  9.16it/s]\n",
      "100%|██████████| 63/63 [00:02<00:00, 21.96it/s]\n"
     ]
    },
    {
     "name": "stdout",
     "output_type": "stream",
     "text": [
      "epoch #13\ttrain_acc: 0.985\tvalid_acc: 0.782\n",
      "epoch #13\tf1_tr: 0.985\tf1_ts: 0.750\n"
     ]
    },
    {
     "name": "stderr",
     "output_type": "stream",
     "text": [
      "100%|██████████| 500/500 [00:55<00:00,  9.03it/s]\n",
      "100%|██████████| 63/63 [00:02<00:00, 22.96it/s]\n"
     ]
    },
    {
     "name": "stdout",
     "output_type": "stream",
     "text": [
      "epoch #14\ttrain_acc: 0.987\tvalid_acc: 0.749\n",
      "epoch #14\tf1_tr: 0.987\tf1_ts: 0.698\n"
     ]
    },
    {
     "name": "stderr",
     "output_type": "stream",
     "text": [
      "100%|██████████| 500/500 [00:54<00:00,  9.25it/s]\n",
      "100%|██████████| 63/63 [00:02<00:00, 23.69it/s]\n"
     ]
    },
    {
     "name": "stdout",
     "output_type": "stream",
     "text": [
      "epoch #15\ttrain_acc: 0.989\tvalid_acc: 0.707\n",
      "epoch #15\tf1_tr: 0.989\tf1_ts: 0.622\n"
     ]
    },
    {
     "name": "stderr",
     "output_type": "stream",
     "text": [
      "100%|██████████| 500/500 [00:54<00:00,  9.25it/s]\n",
      "100%|██████████| 63/63 [00:02<00:00, 23.54it/s]\n"
     ]
    },
    {
     "name": "stdout",
     "output_type": "stream",
     "text": [
      "epoch #16\ttrain_acc: 0.986\tvalid_acc: 0.760\n",
      "epoch #16\tf1_tr: 0.986\tf1_ts: 0.715\n"
     ]
    },
    {
     "name": "stderr",
     "output_type": "stream",
     "text": [
      "100%|██████████| 500/500 [00:55<00:00,  9.01it/s]\n",
      "100%|██████████| 63/63 [00:02<00:00, 22.86it/s]\n"
     ]
    },
    {
     "name": "stdout",
     "output_type": "stream",
     "text": [
      "epoch #17\ttrain_acc: 0.989\tvalid_acc: 0.745\n",
      "epoch #17\tf1_tr: 0.989\tf1_ts: 0.690\n"
     ]
    },
    {
     "name": "stderr",
     "output_type": "stream",
     "text": [
      "100%|██████████| 500/500 [00:54<00:00,  9.11it/s]\n",
      "100%|██████████| 63/63 [00:02<00:00, 22.53it/s]\n"
     ]
    },
    {
     "name": "stdout",
     "output_type": "stream",
     "text": [
      "epoch #18\ttrain_acc: 0.987\tvalid_acc: 0.737\n",
      "epoch #18\tf1_tr: 0.988\tf1_ts: 0.675\n"
     ]
    },
    {
     "name": "stderr",
     "output_type": "stream",
     "text": [
      "100%|██████████| 500/500 [00:54<00:00,  9.20it/s]\n",
      "100%|██████████| 63/63 [00:02<00:00, 22.13it/s]\n"
     ]
    },
    {
     "name": "stdout",
     "output_type": "stream",
     "text": [
      "epoch #19\ttrain_acc: 0.989\tvalid_acc: 0.764\n",
      "epoch #19\tf1_tr: 0.989\tf1_ts: 0.725\n"
     ]
    },
    {
     "name": "stderr",
     "output_type": "stream",
     "text": [
      "100%|██████████| 500/500 [00:55<00:00,  9.08it/s]\n",
      "100%|██████████| 63/63 [00:02<00:00, 21.77it/s]\n"
     ]
    },
    {
     "name": "stdout",
     "output_type": "stream",
     "text": [
      "epoch #20\ttrain_acc: 0.991\tvalid_acc: 0.749\n",
      "epoch #20\tf1_tr: 0.991\tf1_ts: 0.690\n"
     ]
    },
    {
     "name": "stderr",
     "output_type": "stream",
     "text": [
      "100%|██████████| 500/500 [00:56<00:00,  8.91it/s]\n",
      "100%|██████████| 63/63 [00:02<00:00, 22.14it/s]\n"
     ]
    },
    {
     "name": "stdout",
     "output_type": "stream",
     "text": [
      "epoch #21\ttrain_acc: 0.991\tvalid_acc: 0.710\n",
      "epoch #21\tf1_tr: 0.991\tf1_ts: 0.619\n"
     ]
    },
    {
     "name": "stderr",
     "output_type": "stream",
     "text": [
      "100%|██████████| 500/500 [00:54<00:00,  9.10it/s]\n",
      "100%|██████████| 63/63 [00:02<00:00, 22.97it/s]\n"
     ]
    },
    {
     "name": "stdout",
     "output_type": "stream",
     "text": [
      "epoch #22\ttrain_acc: 0.993\tvalid_acc: 0.765\n",
      "epoch #22\tf1_tr: 0.992\tf1_ts: 0.721\n"
     ]
    },
    {
     "name": "stderr",
     "output_type": "stream",
     "text": [
      "100%|██████████| 500/500 [00:54<00:00,  9.17it/s]\n",
      "100%|██████████| 63/63 [00:02<00:00, 22.62it/s]\n"
     ]
    },
    {
     "name": "stdout",
     "output_type": "stream",
     "text": [
      "epoch #23\ttrain_acc: 0.994\tvalid_acc: 0.703\n",
      "epoch #23\tf1_tr: 0.994\tf1_ts: 0.601\n"
     ]
    },
    {
     "name": "stderr",
     "output_type": "stream",
     "text": [
      "100%|██████████| 500/500 [00:56<00:00,  8.86it/s]\n",
      "100%|██████████| 63/63 [00:02<00:00, 24.03it/s]"
     ]
    },
    {
     "name": "stdout",
     "output_type": "stream",
     "text": [
      "epoch #24\ttrain_acc: 0.993\tvalid_acc: 0.757\n",
      "epoch #24\tf1_tr: 0.993\tf1_ts: 0.703\n"
     ]
    },
    {
     "name": "stderr",
     "output_type": "stream",
     "text": [
      "\n"
     ]
    }
   ],
   "source": [
    "from tqdm import tqdm, tqdm_notebook # show progress bar\n",
    "\n",
    "# Epochs\n",
    "epochs = 25\n",
    "train_loss, valid_loss = [], []\n",
    "print(\"Training BiLSTM network model!\")\n",
    "for t in range(epochs):\n",
    "    tl, train_acc, f1_tr = train(x_tr_dl, model, optimizer)\n",
    "    vl, valid_acc, f1_ts = test(x_dev_dl, model)\n",
    "    # Losses to dict\n",
    "    train_loss.append(tl)\n",
    "    valid_loss.append(vl)\n",
    "\n",
    "    # Print results\n",
    "    tqdm.write(\n",
    "        f'epoch #{t}\\ttrain_acc: {train_acc:.3f}\\tvalid_acc: {valid_acc:.3f}',\n",
    "    )\n",
    "    tqdm.write(\n",
    "        f'epoch #{t}\\tf1_tr: {f1_tr:.3f}\\tf1_ts: {f1_ts:.3f}',\n",
    "    )"
   ]
  },
  {
   "cell_type": "code",
   "execution_count": 21,
   "metadata": {},
   "outputs": [
    {
     "data": {
      "image/png": "[encoded data removed]",
      "text/plain": [
       "<Figure size 1000x500 with 1 Axes>"
      ]
     },
     "metadata": {},
     "output_type": "display_data"
    }
   ],
   "source": [
    "import matplotlib.pyplot as plt\n",
    "plt.style.use('ggplot')\n",
    "plt.figure(figsize=(10,5))\n",
    "epoch_ticks = range(1, t+1 + 1)\n",
    "plt.plot(epoch_ticks, train_loss)\n",
    "plt.plot(epoch_ticks, valid_loss)\n",
    "plt.legend(['Train Loss', 'Valid Loss'])\n",
    "plt.title('Losses') \n",
    "plt.xlabel('Epoch #')\n",
    "plt.ylabel('Loss')\n",
    "plt.xticks(epoch_ticks)\n",
    "plt.show()"
   ]
  },
  {
   "cell_type": "code",
   "execution_count": 13,
   "metadata": {},
   "outputs": [],
   "source": [
    "def predict(dl, ln):\n",
    "    with torch.no_grad():  # Disable gradient computation for efficiency\n",
    "        preds, acc, test_acc = [], 0, 0\n",
    "        for X, y, text_len in dl:\n",
    "            # Dev data\n",
    "            pred = model(X, text_len)\n",
    "            test_acc += torch.sum((pred>=0.5).float() == y)\n",
    "    return (test_acc/ln).detach().cpu().numpy().item()"
   ]
  },
  {
   "cell_type": "code",
   "execution_count": 14,
   "metadata": {},
   "outputs": [
    {
     "data": {
      "text/plain": [
       "0.9985000491142273"
      ]
     },
     "execution_count": 14,
     "metadata": {},
     "output_type": "execute_result"
    }
   ],
   "source": [
    "predict(x_tr_dl, df_train.shape[0])"
   ]
  },
  {
   "cell_type": "code",
   "execution_count": 15,
   "metadata": {},
   "outputs": [
    {
     "data": {
      "text/plain": [
       "0.7565000653266907"
      ]
     },
     "execution_count": 15,
     "metadata": {},
     "output_type": "execute_result"
    }
   ],
   "source": [
    "predict(x_dev_dl, df_dev.shape[0])"
   ]
  },
  {
   "cell_type": "markdown",
   "metadata": {},
   "source": [
    "# Predict on sample data"
   ]
  },
  {
   "cell_type": "code",
   "execution_count": 16,
   "metadata": {},
   "outputs": [],
   "source": [
    "test = pd.read_json('../Data/test_data.json', lines=True)['text']\n",
    "# train = [re.sub(',', '',', '.join([str(x) for x in tok])) for tok in df_train['text']]\n",
    "test = [[t if t != 0 else 1 for t in ls] for ls in test]"
   ]
  },
  {
   "cell_type": "code",
   "execution_count": 17,
   "metadata": {},
   "outputs": [],
   "source": [
    "preds = []\n",
    "for line in test:\n",
    "    text_tensor = torch.tensor(line).unsqueeze(0).to(device)\n",
    "    text_length = torch.tensor([len(line)])\n",
    "    # Pass the sequence and its length to the model\n",
    "    prediction = model(text_tensor, text_length)\n",
    "    preds.extend((prediction>=0.5).int().detach().cpu().numpy().reshape(-1))"
   ]
  },
  {
   "cell_type": "code",
   "execution_count": 18,
   "metadata": {},
   "outputs": [],
   "source": [
    "test_df = pd.DataFrame(columns = ['id', 'value'])\n",
    "for idx, v in enumerate(preds):\n",
    "    test_df.loc[idx] = [idx, preds[idx]]\n",
    "test_df.to_csv('predictions.csv', index=False)"
   ]
  },
  {
   "cell_type": "code",
   "execution_count": 19,
   "metadata": {},
   "outputs": [
    {
     "data": {
      "text/plain": [
       "value\n",
       "0    2661\n",
       "1    1339\n",
       "Name: count, dtype: int64"
      ]
     },
     "execution_count": 19,
     "metadata": {},
     "output_type": "execute_result"
    }
   ],
   "source": [
    "test_df['value'].value_counts()"
   ]
  },
  {
   "cell_type": "code",
   "execution_count": 20,
   "metadata": {},
   "outputs": [
    {
     "ename": "SyntaxError",
     "evalue": "'(' was never closed (664557103.py, line 2)",
     "output_type": "error",
     "traceback": [
      "\u001b[0;36m  Cell \u001b[0;32mIn[20], line 2\u001b[0;36m\u001b[0m\n\u001b[0;31m    model_scripted = torch.jit.script(model.to('cpu') # Export to TorchScript\u001b[0m\n\u001b[0m                                     ^\u001b[0m\n\u001b[0;31mSyntaxError\u001b[0m\u001b[0;31m:\u001b[0m '(' was never closed\n"
     ]
    }
   ],
   "source": [
    "#  Export model\n",
    "model_scripted = torch.jit.script(model.to('cpu') # Export to TorchScript\n",
    "model_scripted.save('model_scripted.pt') # Save"
   ]
  },
  {
   "cell_type": "code",
   "execution_count": null,
   "metadata": {},
   "outputs": [],
   "source": [
    "# Load Model\n",
    "model = torch.jit.load('model_scripted.pt')\n",
    "model.eval()"
   ]
  }
 ],
 "metadata": {
  "kernelspec": {
   "display_name": "Python 3 (ipykernel)",
   "language": "python",
   "name": "python3"
  },
  "language_info": {
   "codemirror_mode": {
    "name": "ipython",
    "version": 3
   },
   "file_extension": ".py",
   "mimetype": "text/x-python",
   "name": "python",
   "nbconvert_exporter": "python",
   "pygments_lexer": "ipython3",
   "version": "3.10.13"
  }
 },
 "nbformat": 4,
 "nbformat_minor": 4
}
