{
 "cells": [
  {
   "attachments": {},
   "cell_type": "markdown",
   "metadata": {},
   "source": [
    "# 1. Data preprocessing"
   ]
  },
  {
   "cell_type": "code",
   "execution_count": 1,
   "metadata": {},
   "outputs": [],
   "source": [
    "from sklearn.model_selection import train_test_split\n",
    "import numpy as np\n",
    "import pandas as pd\n",
    "import re"
   ]
  },
  {
   "cell_type": "code",
   "execution_count": 2,
   "metadata": {},
   "outputs": [],
   "source": [
    "# Read data\n",
    "df1 = pd.read_json('domain1_train_data.json', lines=True)\n",
    "df2 = pd.read_json('domain2_train_data.json', lines=True)\n",
    "\n",
    "# Train dev split\n",
    "df1_train, df1_dev = train_test_split(df1, stratify=df1['label'], random_state=42)\n",
    "df2_train, df2_dev = train_test_split(df2, stratify=df2['label'], random_state=42)\n",
    "dev_set = pd.concat([df1_dev, df2_dev]).reset_index(drop=True)\n",
    "\n",
    "# Join data in both domains for trating them jointly (Augmentation)\n",
    "df3_train = pd.concat([df1_train, df2_train]).reset_index(drop=True)\n",
    "\n",
    "# Transform numbers to strings to treat them as tokens\n",
    "txt1 = [re.sub(',', '',', '.join([str(x) for x in tok])) for tok in df1_train['text']]\n",
    "txt2 = [re.sub(',', '',', '.join([str(x) for x in tok])) for tok in df2_train['text']]\n",
    "aug_txt = [re.sub(',', '', ', '.join([str(x) for x in tok])) for tok in df3_train['text']]\n",
    "\n",
    "# Train sets\n",
    "x_tr1, y_tr1 = txt1, df1_train['label']\n",
    "x_tr2, y_tr2 = txt2, df2_train['label']\n",
    "# Train sets (Data Augmentation)\n",
    "x_tr_aug, y_train_aug = aug_txt, df3_train['label']\n",
    "# Dev set\n",
    "x_dev, y_dev = [re.sub(',', '',', '.join([str(x) for x in tok])) for tok in dev_set['text']], dev_set['label']"
   ]
  },
  {
   "attachments": {},
   "cell_type": "markdown",
   "metadata": {},
   "source": [
    "# 2. Encoding"
   ]
  },
  {
   "cell_type": "code",
   "execution_count": 5,
   "metadata": {},
   "outputs": [],
   "source": [
    "from sklearn.feature_extraction.text import CountVectorizer, TfidfVectorizer\n",
    "\n",
    "# Tokens encoding to sparce matrix (Countv)\n",
    "Cvec1 = CountVectorizer()\n",
    "Cvec2 = CountVectorizer()\n",
    "Cvec3 = CountVectorizer()\n",
    "\n",
    "# Vectorize training sets\n",
    "x_train1_c = Cvec1.fit_transform(x_tr1)\n",
    "x_train2_c = Cvec2.fit_transform(x_tr2)\n",
    "x_train_aug_c = Cvec3.fit_transform(x_tr_aug)\n",
    "\n",
    "# Vectorize development sets\n",
    "x_dev1_c = Cvec1.transform(x_dev)\n",
    "x_dev2_c = Cvec2.transform(x_dev)\n",
    "x_dev_aug_c = Cvec3.transform(x_dev)"
   ]
  },
  {
   "cell_type": "code",
   "execution_count": 6,
   "metadata": {},
   "outputs": [],
   "source": [
    "# Tokens encoding to sparce matrix (Tfid)\n",
    "Tvec1 = TfidfVectorizer()\n",
    "Tvec2 = TfidfVectorizer()\n",
    "Tvec3 = TfidfVectorizer(sublinear_tf=True, use_idf=True,norm=None)\n",
    "\n",
    "# Vectorize training sets\n",
    "x_train1_t = Tvec1.fit_transform(x_tr1)\n",
    "x_train2_t = Tvec2.fit_transform(x_tr2)\n",
    "x_train_aug_t = Tvec3.fit_transform(x_tr_aug)\n",
    "\n",
    "# Vectorize development sets\n",
    "x_dev1_t = Tvec1.transform(x_dev)\n",
    "x_dev2_t = Tvec2.transform(x_dev)\n",
    "x_dev_aug_t = Tvec3.transform(x_dev)"
   ]
  },
  {
   "attachments": {},
   "cell_type": "markdown",
   "metadata": {},
   "source": [
    "# 3. Train base models (Not NN)"
   ]
  },
  {
   "cell_type": "code",
   "execution_count": 7,
   "metadata": {},
   "outputs": [],
   "source": [
    "from sklearn.linear_model import LogisticRegression\n",
    "import warnings\n",
    "warnings.filterwarnings('ignore')\n",
    "# \"default\"\n",
    "\n",
    "# Train models\n",
    "\n",
    "# Domain 1 models\n",
    "cl_1_c = LogisticRegression().fit(x_train1_c, y_tr1)\n",
    "cl_1_t = LogisticRegression().fit(x_train1_t, y_tr1)\n",
    "\n",
    "# Domain 2 models\n",
    "cl_2_c = LogisticRegression().fit(x_train2_t, y_tr2)\n",
    "cl_2_t = LogisticRegression().fit(x_train2_c, y_tr2)\n",
    "\n",
    "# augmented data (Both domains)\n",
    "cl_aug_c = LogisticRegression().fit(x_train_aug_c, y_train_aug)\n",
    "cl_aug_t = LogisticRegression().fit(x_train_aug_t, y_train_aug)\n",
    "cl_aug_c_w = LogisticRegression(class_weight=\"balanced\").fit(x_train_aug_c, y_train_aug)\n",
    "cl_aug_t_w = LogisticRegression(class_weight=\"balanced\").fit(x_train_aug_t, y_train_aug)"
   ]
  },
  {
   "cell_type": "code",
   "execution_count": 8,
   "metadata": {},
   "outputs": [
    {
     "name": "stdout",
     "output_type": "stream",
     "text": [
      "Accuracy model -MV using  Cvec: 0.651\n",
      "Accuracy model -DA using  Cvec: 0.846\n",
      "Accuracy model -DA using  Cvec-w: 0.849\n",
      "\n",
      "Accuracy model -MV using  Tvec: 0.778\n",
      "Accuracy model -DA using  Tvec: 0.855\n",
      "Accuracy model -DA using  Tvec-w: 0.857\n"
     ]
    }
   ],
   "source": [
    "from sklearn.metrics import accuracy_score\n",
    "# Accuracy scores\n",
    "# x_dev, y_dev\n",
    "# Domain 1 models\n",
    "sc1_c = cl_1_c.score(x_dev1_c, y_dev)\n",
    "sc1_t = cl_1_c.score(x_dev1_t, y_dev)\n",
    "# Domain 2 models\n",
    "sc2_c = cl_2_c.score(x_dev2_c, y_dev)\n",
    "sc2_t = cl_2_t.score(x_dev2_t, y_dev)\n",
    "# Majority voting scores\n",
    "mv_pred_c = [1 if prob > 0.5 else 0 for prob in (cl_1_c.predict_proba(x_dev1_c).T[1] + cl_2_c.predict_proba(x_dev2_c).T[1])/2]\n",
    "mv_pred_t = [1 if prob > 0.5 else 0 for prob in (cl_1_t.predict_proba(x_dev1_t).T[1] + cl_2_t.predict_proba(x_dev2_t).T[1])/2]\n",
    "mv_sc_c = sum([mv_pred_c[i] == y_dev[i] for i, j in enumerate(y_dev)])/len(y_dev)\n",
    "mv_sc_t = sum([mv_pred_t[i] == y_dev[i] for i, j in enumerate(y_dev)])/len(y_dev)\n",
    "# Data augmentation scores\n",
    "sc_aug_c = cl_aug_c.score(x_dev_aug_c, y_dev)\n",
    "sc_aug_t = cl_aug_t.score(x_dev_aug_t, y_dev)\n",
    "sc_aug_c_w = cl_aug_c_w.score(x_dev_aug_c, y_dev)\n",
    "sc_aug_t_w = cl_aug_t_w.score(x_dev_aug_t, y_dev)\n",
    "# Print scores\n",
    "print(\"Accuracy model -MV using  Cvec:\", round(mv_sc_c,3))\n",
    "print(\"Accuracy model -DA using  Cvec:\", round(sc_aug_c,3))\n",
    "print(\"Accuracy model -DA using  Cvec-w:\", round(sc_aug_c_w,3))\n",
    "print()\n",
    "print(\"Accuracy model -MV using  Tvec:\", round(mv_sc_t,3))\n",
    "print(\"Accuracy model -DA using  Tvec:\", round(sc_aug_t,3))\n",
    "print(\"Accuracy model -DA using  Tvec-w:\", round(sc_aug_t_w,3))"
   ]
  },
  {
   "cell_type": "code",
   "execution_count": 9,
   "metadata": {},
   "outputs": [
    {
     "name": "stdout",
     "output_type": "stream",
     "text": [
      "              precision    recall  f1-score   support\n",
      "\n",
      "           0       0.88      0.94      0.90      3500\n",
      "           1       0.70      0.53      0.61      1000\n",
      "\n",
      "    accuracy                           0.85      4500\n",
      "   macro avg       0.79      0.73      0.76      4500\n",
      "weighted avg       0.84      0.85      0.84      4500\n",
      "\n"
     ]
    },
    {
     "data": {
      "image/png": "[encoded data removed]",
      "text/plain": [
       "<Figure size 640x480 with 2 Axes>"
      ]
     },
     "metadata": {},
     "output_type": "display_data"
    }
   ],
   "source": [
    "from sklearn.metrics import ConfusionMatrixDisplay, classification_report, confusion_matrix\n",
    "\n",
    "C = confusion_matrix(cl_aug_c.predict(x_dev_aug_c), y_dev)\n",
    "cm = ConfusionMatrixDisplay(confusion_matrix=C)\n",
    "cm.plot()\n",
    "print(classification_report(y_dev, cl_aug_c.predict(x_dev_aug_c)))"
   ]
  },
  {
   "attachments": {},
   "cell_type": "markdown",
   "metadata": {},
   "source": [
    "> The majority voting technique has worse performance than Data Augmentation in all the encoders applied. Thus, for the next steps this is the dataset to use.\n",
    "\n",
    "# 4 DL Models \n",
    "\n",
    "### Embeding model"
   ]
  },
  {
   "cell_type": "code",
   "execution_count": 10,
   "metadata": {},
   "outputs": [
    {
     "data": {
      "text/plain": [
       "<torch._C.Generator at 0x1525d8570>"
      ]
     },
     "execution_count": 10,
     "metadata": {},
     "output_type": "execute_result"
    }
   ],
   "source": [
    "import pandas as pd\n",
    "import torch\n",
    "from torch.utils.data import Dataset, DataLoader\n",
    "from torch.nn.utils.rnn import pad_sequence \n",
    "\n",
    "torch.manual_seed(42)"
   ]
  },
  {
   "cell_type": "code",
   "execution_count": 11,
   "metadata": {},
   "outputs": [
    {
     "name": "stdout",
     "output_type": "stream",
     "text": [
      "mps\n"
     ]
    }
   ],
   "source": [
    "# Get cpu, gpu or mps device for training.\n",
    "device = (\n",
    "    \"cuda\" if torch.cuda.is_available()\n",
    "    else \"mps\" if torch.backends.mps.is_available()\n",
    "    else \"cpu\"\n",
    ")\n",
    "print(device)"
   ]
  },
  {
   "cell_type": "code",
   "execution_count": 12,
   "metadata": {},
   "outputs": [],
   "source": [
    "# Truncate sparse matrixes\n",
    "\n",
    "# Training Cv and Tifd sets\n",
    "from sklearn.decomposition import TruncatedSVD\n",
    "x_dense_c = TruncatedSVD(n_components=200).fit_transform(x_train_aug_c.T)\n",
    "x_dense_t = TruncatedSVD(n_components=200).fit_transform(x_train_aug_t.T)\n",
    "# Dev sets\n",
    "dev_dense_c = TruncatedSVD(n_components=200).fit_transform(x_dev_aug_c.T)\n",
    "dev_dense_t = TruncatedSVD(n_components=200).fit_transform(x_dev_aug_t.T)"
   ]
  },
  {
   "cell_type": "code",
   "execution_count": 13,
   "metadata": {},
   "outputs": [],
   "source": [
    "# Prepare pytorch dataset\n",
    "class Dataset(Dataset):\n",
    "    def __init__(self, text, labels):\n",
    "        self.text = text\n",
    "        self.labels = labels\n",
    "    def __len__(self):\n",
    "        return len(self.labels)\n",
    "    def __getitem__(self, idx):\n",
    "        text = self.text[idx]\n",
    "        label = self.labels[idx]\n",
    "        sample = text, label\n",
    "        return sample\n",
    "    \n",
    "# Define collate (pre_process) function\n",
    "def collate_batch(batch):  \n",
    "    texts, labels = zip(*batch)\n",
    "    texts = torch.tensor(texts, dtype=torch.float32).to(device)\n",
    "    labels = torch.tensor(labels, dtype=torch.float32).to(device).reshape(-1,1)\n",
    "    return texts, labels\n",
    "\n",
    "# Create datasets\n",
    "train_DS = Dataset(x_dense_t, df3_train['label'])\n",
    "dev_DS = Dataset(dev_dense_t, dev_set['label'])\n",
    "# Create dataloaders\n",
    "x_tr_dl = DataLoader(train_DS, batch_size=100, collate_fn=collate_batch)\n",
    "x_dev_dl = DataLoader(dev_DS, batch_size=100, collate_fn=collate_batch)"
   ]
  },
  {
   "cell_type": "code",
   "execution_count": 14,
   "metadata": {},
   "outputs": [],
   "source": [
    "class BowNetwork(torch.nn.Module):\n",
    "    def __init__(self, vocab_size, hidden_dim):\n",
    "        super().__init__()\n",
    "        self.first_layer = torch.nn.Linear(vocab_size, hidden_dim) \n",
    "        torch.nn.init.uniform_(self.first_layer.weight)\n",
    "        self.second_layer = torch.nn.Linear(hidden_dim, hidden_dim)\n",
    "        self.third_layer = torch.nn.Linear(hidden_dim, 1)\n",
    "\n",
    "    def forward(self, x):\n",
    "        x = torch.relu(self.first_layer(x)) \n",
    "        x = torch.relu(self.second_layer(x)) \n",
    "        logits = torch.sigmoid(self.third_layer(x))    # logits.shape = [batch_size, 1]\n",
    "        return logits"
   ]
  },
  {
   "cell_type": "code",
   "execution_count": 15,
   "metadata": {},
   "outputs": [
    {
     "name": "stdout",
     "output_type": "stream",
     "text": [
      "BowNetwork(\n",
      "  (first_layer): Linear(in_features=200, out_features=10, bias=True)\n",
      "  (second_layer): Linear(in_features=10, out_features=10, bias=True)\n",
      "  (third_layer): Linear(in_features=10, out_features=1, bias=True)\n",
      ")\n"
     ]
    }
   ],
   "source": [
    "vocab_size = x_dense_t.shape[1]\n",
    "bow_model = BowNetwork(vocab_size, 10).to(device)\n",
    "print(bow_model)"
   ]
  },
  {
   "cell_type": "code",
   "execution_count": 16,
   "metadata": {},
   "outputs": [],
   "source": [
    "from torch.optim.lr_scheduler import CosineAnnealingLR\n",
    "# Loss fn\n",
    "loss_fn = torch.nn.BCELoss()\n",
    "# Optimizer\n",
    "optimizer = torch.optim.Adam(\n",
    "    filter(lambda p: p.requires_grad, bow_model.parameters()),\n",
    "    lr=5e-5,\n",
    ")\n",
    "# scheduler = CosineAnnealingLR(optimizer, 1)"
   ]
  },
  {
   "cell_type": "code",
   "execution_count": 17,
   "metadata": {},
   "outputs": [],
   "source": [
    "# Train\n",
    "def train(dataloader, model, loss_fn, optimizer):\n",
    "    size = len(dataloader.dataset)\n",
    "    model.train()\n",
    "    train_loss, acc, total = 0, 0, 0\n",
    "    for X, y in dataloader:\n",
    "        pred = model(X)             # Forward pass\n",
    "        loss = loss_fn(pred, y)     # Compute loss \n",
    "        loss.backward()             # Backpropagation\n",
    "        optimizer.step()            # Update parameters\n",
    "        # scheduler.step()            # Update optimizer\n",
    "        optimizer.zero_grad()       # Reset gradient\n",
    "    \n",
    "        # Metrics\n",
    "        train_loss += loss.item()\n",
    "        total += len(y)\n",
    "        result = (pred>0.5).float()\n",
    "        acc += (result == y).sum().item()\n",
    "        \n",
    "    # General metrics\n",
    "    train_loss /= total\n",
    "    acc /= size\n",
    "    return train_loss, acc"
   ]
  },
  {
   "cell_type": "code",
   "execution_count": 18,
   "metadata": {},
   "outputs": [],
   "source": [
    "# Test\n",
    "def test(dataloader, model, loss_fn):\n",
    "    size = len(dataloader.dataset)\n",
    "    model.eval()\n",
    "    test_loss, acc, total = 0, 0, 0\n",
    "    with torch.no_grad():       # Specify no gradient\n",
    "        for X, y in dataloader:\n",
    "            pred = model(X)                         # Forward pass\n",
    "            test_loss += loss_fn(pred, y).item()    # Compute loss     \n",
    "            \n",
    "            # Metrics\n",
    "            result = (pred>0.5).float()             # Results to binary\n",
    "            acc += (result == y).sum().item()       # Accuracy\n",
    "            total += len(y)                         # Total observations\n",
    "            \n",
    "    # General metrics\n",
    "    test_loss /= total\n",
    "    acc /= size\n",
    "    return test_loss, acc"
   ]
  },
  {
   "cell_type": "code",
   "execution_count": 19,
   "metadata": {},
   "outputs": [
    {
     "name": "stdout",
     "output_type": "stream",
     "text": [
      "Training BOW feedforward network model!\n",
      "epoch #0\ttrain_acc: 0.775\tvalid_acc: 0.774\n",
      "epoch #1\ttrain_acc: 0.774\tvalid_acc: 0.774\n",
      "epoch #2\ttrain_acc: 0.772\tvalid_acc: 0.774\n",
      "epoch #3\ttrain_acc: 0.772\tvalid_acc: 0.773\n",
      "epoch #4\ttrain_acc: 0.772\tvalid_acc: 0.774\n",
      "epoch #5\ttrain_acc: 0.772\tvalid_acc: 0.774\n",
      "epoch #6\ttrain_acc: 0.772\tvalid_acc: 0.773\n",
      "epoch #7\ttrain_acc: 0.772\tvalid_acc: 0.773\n",
      "epoch #8\ttrain_acc: 0.772\tvalid_acc: 0.773\n",
      "epoch #9\ttrain_acc: 0.772\tvalid_acc: 0.773\n",
      "epoch #10\ttrain_acc: 0.773\tvalid_acc: 0.774\n",
      "epoch #11\ttrain_acc: 0.773\tvalid_acc: 0.774\n",
      "epoch #12\ttrain_acc: 0.773\tvalid_acc: 0.773\n",
      "epoch #13\ttrain_acc: 0.773\tvalid_acc: 0.774\n",
      "epoch #14\ttrain_acc: 0.774\tvalid_acc: 0.774\n",
      "epoch #15\ttrain_acc: 0.774\tvalid_acc: 0.774\n",
      "epoch #16\ttrain_acc: 0.774\tvalid_acc: 0.774\n",
      "epoch #17\ttrain_acc: 0.774\tvalid_acc: 0.774\n",
      "epoch #18\ttrain_acc: 0.774\tvalid_acc: 0.774\n",
      "epoch #19\ttrain_acc: 0.774\tvalid_acc: 0.774\n",
      "epoch #20\ttrain_acc: 0.775\tvalid_acc: 0.774\n",
      "epoch #21\ttrain_acc: 0.775\tvalid_acc: 0.774\n",
      "epoch #22\ttrain_acc: 0.775\tvalid_acc: 0.775\n",
      "epoch #23\ttrain_acc: 0.775\tvalid_acc: 0.775\n",
      "epoch #24\ttrain_acc: 0.775\tvalid_acc: 0.774\n",
      "epoch #25\ttrain_acc: 0.775\tvalid_acc: 0.774\n",
      "epoch #26\ttrain_acc: 0.775\tvalid_acc: 0.774\n",
      "epoch #27\ttrain_acc: 0.775\tvalid_acc: 0.774\n",
      "epoch #28\ttrain_acc: 0.775\tvalid_acc: 0.774\n",
      "epoch #29\ttrain_acc: 0.775\tvalid_acc: 0.774\n",
      "epoch #30\ttrain_acc: 0.775\tvalid_acc: 0.774\n",
      "epoch #31\ttrain_acc: 0.775\tvalid_acc: 0.774\n",
      "epoch #32\ttrain_acc: 0.775\tvalid_acc: 0.774\n",
      "epoch #33\ttrain_acc: 0.776\tvalid_acc: 0.775\n",
      "epoch #34\ttrain_acc: 0.776\tvalid_acc: 0.774\n",
      "epoch #35\ttrain_acc: 0.776\tvalid_acc: 0.774\n",
      "epoch #36\ttrain_acc: 0.776\tvalid_acc: 0.774\n",
      "epoch #37\ttrain_acc: 0.776\tvalid_acc: 0.775\n",
      "epoch #38\ttrain_acc: 0.776\tvalid_acc: 0.775\n",
      "epoch #39\ttrain_acc: 0.776\tvalid_acc: 0.775\n",
      "epoch #40\ttrain_acc: 0.776\tvalid_acc: 0.774\n",
      "epoch #41\ttrain_acc: 0.777\tvalid_acc: 0.774\n",
      "epoch #42\ttrain_acc: 0.777\tvalid_acc: 0.774\n",
      "epoch #43\ttrain_acc: 0.777\tvalid_acc: 0.774\n",
      "epoch #44\ttrain_acc: 0.777\tvalid_acc: 0.775\n",
      "epoch #45\ttrain_acc: 0.777\tvalid_acc: 0.775\n",
      "epoch #46\ttrain_acc: 0.777\tvalid_acc: 0.775\n",
      "epoch #47\ttrain_acc: 0.777\tvalid_acc: 0.775\n",
      "epoch #48\ttrain_acc: 0.777\tvalid_acc: 0.775\n",
      "epoch #49\ttrain_acc: 0.777\tvalid_acc: 0.775\n"
     ]
    }
   ],
   "source": [
    "from tqdm import tqdm, tqdm_notebook # show progress bar\n",
    "\n",
    "# Epochs\n",
    "epochs = 50\n",
    "train_loss, valid_loss = [], []\n",
    "print(\"Training BOW feedforward network model!\")\n",
    "for t in range(epochs):\n",
    "    tl, train_acc = train(x_tr_dl, bow_model, loss_fn, optimizer)\n",
    "    vl, valid_acc = test(x_dev_dl, bow_model, loss_fn)\n",
    "    # Losses to dict\n",
    "    train_loss.append(tl)\n",
    "    valid_loss.append(vl)\n",
    "    # Print results\n",
    "    tqdm.write(\n",
    "        f'epoch #{t}\\ttrain_acc: {train_acc:.3f}\\tvalid_acc: {valid_acc:.3f}',\n",
    "    )"
   ]
  },
  {
   "cell_type": "code",
   "execution_count": 20,
   "metadata": {},
   "outputs": [
    {
     "data": {
      "image/png": "[encoded data removed]",
      "text/plain": [
       "<Figure size 1000x500 with 1 Axes>"
      ]
     },
     "metadata": {},
     "output_type": "display_data"
    }
   ],
   "source": [
    "plt.style.use('ggplot')\n",
    "plt.figure(figsize=(10,5))\n",
    "epoch_ticks = range(1, epochs + 1)\n",
    "plt.plot(epoch_ticks, train_loss)\n",
    "plt.plot(epoch_ticks, valid_loss)\n",
    "plt.legend(['Train Loss', 'Valid Loss'])\n",
    "plt.title('Losses') \n",
    "plt.xlabel('Epoch #')\n",
    "plt.ylabel('Loss')\n",
    "plt.xticks(epoch_ticks)\n",
    "plt.show()"
   ]
  },
  {
   "attachments": {},
   "cell_type": "markdown",
   "metadata": {},
   "source": [
    "# RNN Models"
   ]
  },
  {
   "cell_type": "code",
   "execution_count": 60,
   "metadata": {},
   "outputs": [],
   "source": [
    "# Binary accuracy function\n",
    "def binary_accuracy(predictions, y):\n",
    "    rounded_preds = torch.round(torch.sigmoid(predictions)).squeeze()  # Ensure it's a 1D tensor\n",
    "    correct = (rounded_preds == y).float()\n",
    "    return correct.sum() / len(correct)\n",
    "\n",
    "\n",
    "from sklearn.metrics import f1_score\n",
    "\n",
    "def compute_f1(predictions, labels):\n",
    "    # Convert predictions to binary\n",
    "    preds_binary = torch.round(torch.sigmoid(predictions))\n",
    "    preds_binary = preds_binary.detach().cpu().numpy()\n",
    "    labels = labels.detach().cpu().numpy()\n",
    "\n",
    "    return f1_score(labels, preds_binary)"
   ]
  },
  {
   "cell_type": "code",
   "execution_count": 107,
   "metadata": {},
   "outputs": [],
   "source": [
    "# Prepare pytorch dataset\n",
    "class Dataset(Dataset):\n",
    "    def __init__(self, text, labels):\n",
    "        self.text = text\n",
    "        self.labels = labels\n",
    "    def __len__(self):\n",
    "        return len(self.labels)\n",
    "    def __getitem__(self, idx):\n",
    "        text = torch.tensor(self.text[idx])\n",
    "        label = torch.tensor(self.labels[idx])\n",
    "        return text, label\n",
    "    \n",
    "# Define collate (pre_process) function\n",
    "def collate_batch(batch):  \n",
    "    texts, labels = zip(*batch)\n",
    "    text_len = [len(txt) for txt in texts]\n",
    "    # Pad the input sequence to adjust to the largest shape in all the observations\n",
    "    text = pad_sequence(texts, batch_first=True).to(device) \n",
    "    labels = torch.tensor(labels, dtype=torch.float32).to(device).reshape(-1,1)\n",
    "    return text, labels, text_len\n",
    "\n",
    "# Create datasets\n",
    "train_DS = Dataset(df3_train['text'], df3_train['label'])\n",
    "dev_DS = Dataset(x_dev, y_dev)\n",
    "# Create dataloaders\n",
    "x_tr_dl = DataLoader(train_DS, batch_size=100, collate_fn=collate_batch)\n",
    "x_dev_dl = DataLoader(dev_DS, batch_size=100, collate_fn=collate_batch)"
   ]
  },
  {
   "cell_type": "code",
   "execution_count": 109,
   "metadata": {},
   "outputs": [],
   "source": [
    "import torch.nn as nn\n",
    "# Create model\n",
    "class BILSTM_model(nn.Module):\n",
    "    def __init__(self, vocab_size, embedding_dim, hidden_dim, output_dim, n_layers, \n",
    "                 bidirectional, dropout):\n",
    "        #Constructor\n",
    "        super().__init__()\n",
    "        #embedding layer\n",
    "        self.embedding = nn.Embedding(vocab_size, embedding_dim)\n",
    "        #lstm layer\n",
    "        self.lstm = nn.LSTM(embedding_dim, \n",
    "                           hidden_dim, \n",
    "                           num_layers=n_layers, \n",
    "                           bidirectional=bidirectional, \n",
    "                           dropout=dropout,\n",
    "                           batch_first=True)\n",
    "        #dense layer\n",
    "        self.fc = nn.Linear(hidden_dim * 2, output_dim)\n",
    "        #activation function\n",
    "        self.act = nn.Sigmoid()\n",
    "\n",
    "    def forward(self, text, text_lengths):\n",
    "        embedded = self.embedding(text)\n",
    "        #packed sequence\n",
    "        packed_embedded = nn.utils.rnn.pack_padded_sequence(embedded, text_lengths, batch_first=True, enforce_sorted=False)\n",
    "        packed_output, (hidden, cell) = self.lstm(packed_embedded)\n",
    "\n",
    "        #concat the final forward and backward hidden state\n",
    "        hidden = torch.cat((hidden[-2,:,:], hidden[-1,:,:]), dim = 1)\n",
    "        dense_outputs=self.fc(hidden)\n",
    "        #Final activation function\n",
    "        outputs=self.act(dense_outputs)\n",
    "        return outputs"
   ]
  },
  {
   "cell_type": "code",
   "execution_count": 119,
   "metadata": {},
   "outputs": [],
   "source": [
    "# Train model\n",
    "def train(dataloader, model, loss_fn, optimizer):\n",
    "    size = len(dataloader.dataset)\n",
    "    model.train()\n",
    "    train_loss, acc, total, f1 = 0, 0, 0, 0\n",
    "    for X, y, length in tqdm(dataloader):\n",
    "        pred = model(X, length)     # Forward pass\n",
    "        loss = loss_fn(pred, y)     # Compute loss \n",
    "        loss.backward()             # Backpropagation\n",
    "        optimizer.step()            # Update parameters\n",
    "        # scheduler.step()            # Update optimizer\n",
    "        optimizer.zero_grad()       # Reset gradient\n",
    "\n",
    "        # Metrics\n",
    "        train_loss += loss.item()\n",
    "        total += len(y)\n",
    "        acc += binary_accuracy(pred, y).item()\n",
    "        f1 += compute_f1(pred, y).item()\n",
    "        \n",
    "    # General metrics\n",
    "    train_loss /= total\n",
    "    acc /= size\n",
    "    f1/= size\n",
    "    # return train_loss, acc\n",
    "\n",
    "# Test model\n",
    "def test(dataloader, model, loss_fn):\n",
    "    size = len(dataloader.dataset)\n",
    "    model.eval()\n",
    "    test_loss, acc, total, f1 = 0, 0, 0, 0\n",
    "    with torch.no_grad():       # Specify no gradient\n",
    "        for X, y, length in dataloader:\n",
    "            pred = pred = model(X, length)          # Forward pass\n",
    "            test_loss += loss_fn(pred, y).item()    # Compute loss     \n",
    "            \n",
    "            # Metrics\n",
    "            acc += binary_accuracy(pred, y).item()  # Accuracy\n",
    "            f1 += compute_f1(pred, y).item()\n",
    "            total += len(y)                         # Total observations\n",
    "            \n",
    "    # General metrics\n",
    "    test_loss /= total\n",
    "    acc /= size\n",
    "    return test_loss, acc"
   ]
  },
  {
   "cell_type": "code",
   "execution_count": 120,
   "metadata": {},
   "outputs": [],
   "source": [
    "#define hyperparameters\n",
    "size_of_vocab = 100\n",
    "embedding_dim = 100\n",
    "num_hidden_nodes = 32\n",
    "num_output_nodes = 1\n",
    "num_layers = 2\n",
    "bidirection = True\n",
    "dropout = 0.2\n",
    "\n",
    "#instantiate the model\n",
    "model = BILSTM_model(size_of_vocab, embedding_dim, num_hidden_nodes,num_output_nodes, num_layers, \n",
    "                   bidirectional = True, dropout = dropout).to(device)"
   ]
  },
  {
   "cell_type": "code",
   "execution_count": 121,
   "metadata": {},
   "outputs": [],
   "source": [
    "# Loss fn\n",
    "loss_fn = nn.BCEWithLogitsLoss()\n",
    "\n",
    "# Optimizer\n",
    "optimizer = torch.optim.Adam(\n",
    "    filter(lambda p: p.requires_grad, model.parameters()),\n",
    "    lr=5e-5,\n",
    ")\n",
    "# scheduler = CosineAnnealingLR(optimizer, 1)\n"
   ]
  },
  {
   "cell_type": "code",
   "execution_count": 122,
   "metadata": {},
   "outputs": [
    {
     "name": "stdout",
     "output_type": "stream",
     "text": [
      "Training BILSTM neural network model!\n"
     ]
    },
    {
     "name": "stderr",
     "output_type": "stream",
     "text": [
      "100%|██████████| 135/135 [20:45<00:00,  9.22s/it]\n"
     ]
    },
    {
     "ename": "TypeError",
     "evalue": "cannot unpack non-iterable NoneType object",
     "output_type": "error",
     "traceback": [
      "\u001b[0;31m---------------------------------------------------------------------------\u001b[0m",
      "\u001b[0;31mTypeError\u001b[0m                                 Traceback (most recent call last)",
      "Cell \u001b[0;32mIn[122], line 7\u001b[0m\n\u001b[1;32m      5\u001b[0m \u001b[39mprint\u001b[39m(\u001b[39m\"\u001b[39m\u001b[39mTraining BILSTM neural network model!\u001b[39m\u001b[39m\"\u001b[39m)\n\u001b[1;32m      6\u001b[0m \u001b[39mfor\u001b[39;00m t \u001b[39min\u001b[39;00m \u001b[39mrange\u001b[39m(epochs):\n\u001b[0;32m----> 7\u001b[0m     tl, train_acc \u001b[39m=\u001b[39m train(x_tr_dl, model, loss_fn, optimizer)\n\u001b[1;32m      8\u001b[0m     vl, valid_acc \u001b[39m=\u001b[39m test(x_dev_dl, model, loss_fn)\n\u001b[1;32m      9\u001b[0m     \u001b[39m# Losses to dict\u001b[39;00m\n",
      "\u001b[0;31mTypeError\u001b[0m: cannot unpack non-iterable NoneType object"
     ]
    }
   ],
   "source": [
    "from tqdm import tqdm\n",
    "# Epochs\n",
    "epochs = 10\n",
    "train_loss, valid_loss = [], []\n",
    "print(\"Training BILSTM neural network model!\")\n",
    "for t in range(epochs):\n",
    "    tl, train_acc = train(x_tr_dl, model, loss_fn, optimizer)\n",
    "    vl, valid_acc = test(x_dev_dl, model, loss_fn)\n",
    "    # Losses to dict\n",
    "    train_loss.append(tl)\n",
    "    valid_loss.append(vl)\n",
    "    # Print results\n",
    "    tqdm.write(\n",
    "        f'epoch #{t}\\ttrain_acc: {train_acc:.3f}\\tvalid_acc: {valid_acc:.3f}',\n",
    "    )"
   ]
  },
  {
   "cell_type": "code",
   "execution_count": null,
   "metadata": {},
   "outputs": [],
   "source": []
  },
  {
   "cell_type": "code",
   "execution_count": 46,
   "metadata": {},
   "outputs": [
    {
     "data": {
      "text/plain": [
       "0        [15, 128, 9, 728, 99, 31, 20, 402, 24, 58, 133...\n",
       "1        [16, 1106, 11, 13662, 11783, 25, 2, 1673, 3782...\n",
       "2        [16, 158, 2915, 5, 2, 341, 6, 497, 118, 10, 2,...\n",
       "3        [158, 5, 13910, 2134, 16, 2744, 8, 15, 8909, 5...\n",
       "4        [2, 135, 25, 62, 1511, 12, 1615, 76641, 2, 195...\n",
       "                               ...                        \n",
       "13495    [7, 67, 44, 9, 572, 73, 3658, 267, 913, 1750, ...\n",
       "13496    [2, 363, 342, 3351, 596, 23, 303, 10045, 22, 1...\n",
       "13497    [8, 15, 71, 12, 864, 7, 69, 6, 63, 3, 29, 201,...\n",
       "13498    [8, 2, 124, 229, 2361, 4, 1068, 247, 979, 946,...\n",
       "13499    [7, 7499, 10, 70, 768, 9, 7, 1394, 212, 787, 2...\n",
       "Name: text, Length: 13500, dtype: object"
      ]
     },
     "execution_count": 46,
     "metadata": {},
     "output_type": "execute_result"
    }
   ],
   "source": [
    "df3_train['text']"
   ]
  },
  {
   "cell_type": "code",
   "execution_count": 47,
   "metadata": {},
   "outputs": [
    {
     "data": {
      "text/plain": [
       "tensor([   16,  1106,    11, 13662, 11783,    25,     2,  1673,  3782,    98,\n",
       "           16,    19,   291,   580,   259,   522,    16,  2126,    15,  6757,\n",
       "            3, 15410, 16915,     4,  5236, 16573,     1,  3855,     3,    16,\n",
       "           19,   150,  9435,     6,    16,   395,  3782,  3592,  5622,     1,\n",
       "            1,     1,    40,  3855,    55,    42,    19,   455,    35,     8,\n",
       "         5184,    30,  4713,    48,    19,    37,   112,   187,     5,   539,\n",
       "           46,   587, 13934,   127,    34,  2168,    19,    49,  4844,   118,\n",
       "         3024,    31,   450,    19,    49,  3729,    20,   940,    19,    49,\n",
       "          190,   333,  2317,   830,    95,  1518,    10, 49366])"
      ]
     },
     "execution_count": 47,
     "metadata": {},
     "output_type": "execute_result"
    }
   ],
   "source": [
    "torch.tensor(df3_train['text'][1])"
   ]
  },
  {
   "cell_type": "code",
   "execution_count": null,
   "metadata": {},
   "outputs": [],
   "source": [
    "# Save model\n",
    "torch.save(bow_model.state_dict(), 'models/embeding_ffnn_')"
   ]
  },
  {
   "cell_type": "code",
   "execution_count": null,
   "metadata": {},
   "outputs": [
    {
     "data": {
      "text/plain": [
       "<All keys matched successfully>"
      ]
     },
     "execution_count": 309,
     "metadata": {},
     "output_type": "execute_result"
    }
   ],
   "source": [
    "model = BowNetwork(69661, 10).to(device)\n",
    "model.load_state_dict(torch.load('models/embeding_ffnn'))"
   ]
  },
  {
   "cell_type": "code",
   "execution_count": 3,
   "metadata": {},
   "outputs": [
    {
     "ename": "NotImplementedError",
     "evalue": "Could not run 'aten::empty_strided' with arguments from the 'CUDA' backend. This could be because the operator doesn't exist for this backend, or was omitted during the selective/custom build process (if using custom build). If you are a Facebook employee using PyTorch on mobile, please visit https://fburl.com/ptmfixes for possible resolutions. 'aten::empty_strided' is only available for these backends: [CPU, MPS, Meta, QuantizedCPU, BackendSelect, Python, FuncTorchDynamicLayerBackMode, Functionalize, Named, Conjugate, Negative, ZeroTensor, ADInplaceOrView, AutogradOther, AutogradCPU, AutogradCUDA, AutogradHIP, AutogradXLA, AutogradMPS, AutogradIPU, AutogradXPU, AutogradHPU, AutogradVE, AutogradLazy, AutogradMTIA, AutogradPrivateUse1, AutogradPrivateUse2, AutogradPrivateUse3, AutogradMeta, AutogradNestedTensor, Tracer, AutocastCPU, AutocastCUDA, FuncTorchBatched, BatchedNestedTensor, FuncTorchVmapMode, Batched, VmapMode, FuncTorchGradWrapper, PythonTLSSnapshot, FuncTorchDynamicLayerFrontMode, PreDispatch, PythonDispatcher].\n\nCPU: registered at /Users/runner/work/pytorch/pytorch/pytorch/build/aten/src/ATen/RegisterCPU.cpp:31357 [kernel]\nMPS: registered at /Users/runner/work/pytorch/pytorch/pytorch/build/aten/src/ATen/RegisterMPS.cpp:27248 [kernel]\nMeta: registered at /Users/runner/work/pytorch/pytorch/pytorch/build/aten/src/ATen/RegisterMeta.cpp:26984 [kernel]\nQuantizedCPU: registered at /Users/runner/work/pytorch/pytorch/pytorch/build/aten/src/ATen/RegisterQuantizedCPU.cpp:944 [kernel]\nBackendSelect: registered at /Users/runner/work/pytorch/pytorch/pytorch/build/aten/src/ATen/RegisterBackendSelect.cpp:807 [kernel]\nPython: registered at /Users/runner/work/pytorch/pytorch/pytorch/aten/src/ATen/core/PythonFallbackKernel.cpp:154 [backend fallback]\nFuncTorchDynamicLayerBackMode: registered at /Users/runner/work/pytorch/pytorch/pytorch/aten/src/ATen/functorch/DynamicLayer.cpp:498 [backend fallback]\nFunctionalize: registered at /Users/runner/work/pytorch/pytorch/pytorch/aten/src/ATen/FunctionalizeFallbackKernel.cpp:324 [backend fallback]\nNamed: registered at /Users/runner/work/pytorch/pytorch/pytorch/aten/src/ATen/core/NamedRegistrations.cpp:7 [backend fallback]\nConjugate: fallthrough registered at /Users/runner/work/pytorch/pytorch/pytorch/aten/src/ATen/ConjugateFallback.cpp:21 [kernel]\nNegative: fallthrough registered at /Users/runner/work/pytorch/pytorch/pytorch/aten/src/ATen/native/NegateFallback.cpp:23 [kernel]\nZeroTensor: fallthrough registered at /Users/runner/work/pytorch/pytorch/pytorch/aten/src/ATen/ZeroTensorFallback.cpp:90 [kernel]\nADInplaceOrView: fallthrough registered at /Users/runner/work/pytorch/pytorch/pytorch/aten/src/ATen/core/VariableFallbackKernel.cpp:86 [backend fallback]\nAutogradOther: registered at /Users/runner/work/pytorch/pytorch/pytorch/torch/csrc/autograd/generated/VariableType_2.cpp:19039 [autograd kernel]\nAutogradCPU: registered at /Users/runner/work/pytorch/pytorch/pytorch/torch/csrc/autograd/generated/VariableType_2.cpp:19039 [autograd kernel]\nAutogradCUDA: registered at /Users/runner/work/pytorch/pytorch/pytorch/torch/csrc/autograd/generated/VariableType_2.cpp:19039 [autograd kernel]\nAutogradHIP: registered at /Users/runner/work/pytorch/pytorch/pytorch/torch/csrc/autograd/generated/VariableType_2.cpp:19039 [autograd kernel]\nAutogradXLA: registered at /Users/runner/work/pytorch/pytorch/pytorch/torch/csrc/autograd/generated/VariableType_2.cpp:19039 [autograd kernel]\nAutogradMPS: registered at /Users/runner/work/pytorch/pytorch/pytorch/torch/csrc/autograd/generated/VariableType_2.cpp:19039 [autograd kernel]\nAutogradIPU: registered at /Users/runner/work/pytorch/pytorch/pytorch/torch/csrc/autograd/generated/VariableType_2.cpp:19039 [autograd kernel]\nAutogradXPU: registered at /Users/runner/work/pytorch/pytorch/pytorch/torch/csrc/autograd/generated/VariableType_2.cpp:19039 [autograd kernel]\nAutogradHPU: registered at /Users/runner/work/pytorch/pytorch/pytorch/torch/csrc/autograd/generated/VariableType_2.cpp:19039 [autograd kernel]\nAutogradVE: registered at /Users/runner/work/pytorch/pytorch/pytorch/torch/csrc/autograd/generated/VariableType_2.cpp:19039 [autograd kernel]\nAutogradLazy: registered at /Users/runner/work/pytorch/pytorch/pytorch/torch/csrc/autograd/generated/VariableType_2.cpp:19039 [autograd kernel]\nAutogradMTIA: registered at /Users/runner/work/pytorch/pytorch/pytorch/torch/csrc/autograd/generated/VariableType_2.cpp:19039 [autograd kernel]\nAutogradPrivateUse1: registered at /Users/runner/work/pytorch/pytorch/pytorch/torch/csrc/autograd/generated/VariableType_2.cpp:19039 [autograd kernel]\nAutogradPrivateUse2: registered at /Users/runner/work/pytorch/pytorch/pytorch/torch/csrc/autograd/generated/VariableType_2.cpp:19039 [autograd kernel]\nAutogradPrivateUse3: registered at /Users/runner/work/pytorch/pytorch/pytorch/torch/csrc/autograd/generated/VariableType_2.cpp:19039 [autograd kernel]\nAutogradMeta: registered at /Users/runner/work/pytorch/pytorch/pytorch/torch/csrc/autograd/generated/VariableType_2.cpp:19039 [autograd kernel]\nAutogradNestedTensor: registered at /Users/runner/work/pytorch/pytorch/pytorch/torch/csrc/autograd/generated/VariableType_2.cpp:19039 [autograd kernel]\nTracer: registered at /Users/runner/work/pytorch/pytorch/pytorch/torch/csrc/autograd/generated/TraceType_2.cpp:17346 [kernel]\nAutocastCPU: fallthrough registered at /Users/runner/work/pytorch/pytorch/pytorch/aten/src/ATen/autocast_mode.cpp:378 [backend fallback]\nAutocastCUDA: fallthrough registered at /Users/runner/work/pytorch/pytorch/pytorch/aten/src/ATen/autocast_mode.cpp:244 [backend fallback]\nFuncTorchBatched: registered at /Users/runner/work/pytorch/pytorch/pytorch/aten/src/ATen/functorch/LegacyBatchingRegistrations.cpp:720 [backend fallback]\nBatchedNestedTensor: registered at /Users/runner/work/pytorch/pytorch/pytorch/aten/src/ATen/functorch/LegacyBatchingRegistrations.cpp:746 [backend fallback]\nFuncTorchVmapMode: fallthrough registered at /Users/runner/work/pytorch/pytorch/pytorch/aten/src/ATen/functorch/VmapModeRegistrations.cpp:28 [backend fallback]\nBatched: registered at /Users/runner/work/pytorch/pytorch/pytorch/aten/src/ATen/LegacyBatchingRegistrations.cpp:1075 [backend fallback]\nVmapMode: fallthrough registered at /Users/runner/work/pytorch/pytorch/pytorch/aten/src/ATen/VmapModeRegistrations.cpp:33 [backend fallback]\nFuncTorchGradWrapper: registered at /Users/runner/work/pytorch/pytorch/pytorch/aten/src/ATen/functorch/TensorWrapper.cpp:203 [backend fallback]\nPythonTLSSnapshot: registered at /Users/runner/work/pytorch/pytorch/pytorch/aten/src/ATen/core/PythonFallbackKernel.cpp:162 [backend fallback]\nFuncTorchDynamicLayerFrontMode: registered at /Users/runner/work/pytorch/pytorch/pytorch/aten/src/ATen/functorch/DynamicLayer.cpp:494 [backend fallback]\nPreDispatch: registered at /Users/runner/work/pytorch/pytorch/pytorch/aten/src/ATen/core/PythonFallbackKernel.cpp:166 [backend fallback]\nPythonDispatcher: registered at /Users/runner/work/pytorch/pytorch/pytorch/aten/src/ATen/core/PythonFallbackKernel.cpp:158 [backend fallback]\n",
     "output_type": "error",
     "traceback": [
      "\u001b[0;31m---------------------------------------------------------------------------\u001b[0m",
      "\u001b[0;31mNotImplementedError\u001b[0m                       Traceback (most recent call last)",
      "Cell \u001b[0;32mIn[3], line 2\u001b[0m\n\u001b[1;32m      1\u001b[0m \u001b[39mimport\u001b[39;00m \u001b[39mtorch\u001b[39;00m\n\u001b[0;32m----> 2\u001b[0m model \u001b[39m=\u001b[39m torch\u001b[39m.\u001b[39;49mjit\u001b[39m.\u001b[39;49mload(\u001b[39m'\u001b[39;49m\u001b[39mmodel_scripted.pt\u001b[39;49m\u001b[39m'\u001b[39;49m)\n\u001b[1;32m      3\u001b[0m model\u001b[39m.\u001b[39meval()\n",
      "File \u001b[0;32m~/Documents/Semester_3/Statistical Machine Learning/Assignment1/venv/lib/python3.10/site-packages/torch/jit/_serialization.py:159\u001b[0m, in \u001b[0;36mload\u001b[0;34m(f, map_location, _extra_files, _restore_shapes)\u001b[0m\n\u001b[1;32m    157\u001b[0m cu \u001b[39m=\u001b[39m torch\u001b[39m.\u001b[39m_C\u001b[39m.\u001b[39mCompilationUnit()\n\u001b[1;32m    158\u001b[0m \u001b[39mif\u001b[39;00m \u001b[39misinstance\u001b[39m(f, (\u001b[39mstr\u001b[39m, pathlib\u001b[39m.\u001b[39mPath)):\n\u001b[0;32m--> 159\u001b[0m     cpp_module \u001b[39m=\u001b[39m torch\u001b[39m.\u001b[39;49m_C\u001b[39m.\u001b[39;49mimport_ir_module(cu, \u001b[39mstr\u001b[39;49m(f), map_location, _extra_files, _restore_shapes)  \u001b[39m# type: ignore[call-arg]\u001b[39;00m\n\u001b[1;32m    160\u001b[0m \u001b[39melse\u001b[39;00m:\n\u001b[1;32m    161\u001b[0m     cpp_module \u001b[39m=\u001b[39m torch\u001b[39m.\u001b[39m_C\u001b[39m.\u001b[39mimport_ir_module_from_buffer(\n\u001b[1;32m    162\u001b[0m         cu, f\u001b[39m.\u001b[39mread(), map_location, _extra_files, _restore_shapes\n\u001b[1;32m    163\u001b[0m     )  \u001b[39m# type: ignore[call-arg]\u001b[39;00m\n",
      "\u001b[0;31mNotImplementedError\u001b[0m: Could not run 'aten::empty_strided' with arguments from the 'CUDA' backend. This could be because the operator doesn't exist for this backend, or was omitted during the selective/custom build process (if using custom build). If you are a Facebook employee using PyTorch on mobile, please visit https://fburl.com/ptmfixes for possible resolutions. 'aten::empty_strided' is only available for these backends: [CPU, MPS, Meta, QuantizedCPU, BackendSelect, Python, FuncTorchDynamicLayerBackMode, Functionalize, Named, Conjugate, Negative, ZeroTensor, ADInplaceOrView, AutogradOther, AutogradCPU, AutogradCUDA, AutogradHIP, AutogradXLA, AutogradMPS, AutogradIPU, AutogradXPU, AutogradHPU, AutogradVE, AutogradLazy, AutogradMTIA, AutogradPrivateUse1, AutogradPrivateUse2, AutogradPrivateUse3, AutogradMeta, AutogradNestedTensor, Tracer, AutocastCPU, AutocastCUDA, FuncTorchBatched, BatchedNestedTensor, FuncTorchVmapMode, Batched, VmapMode, FuncTorchGradWrapper, PythonTLSSnapshot, FuncTorchDynamicLayerFrontMode, PreDispatch, PythonDispatcher].\n\nCPU: registered at /Users/runner/work/pytorch/pytorch/pytorch/build/aten/src/ATen/RegisterCPU.cpp:31357 [kernel]\nMPS: registered at /Users/runner/work/pytorch/pytorch/pytorch/build/aten/src/ATen/RegisterMPS.cpp:27248 [kernel]\nMeta: registered at /Users/runner/work/pytorch/pytorch/pytorch/build/aten/src/ATen/RegisterMeta.cpp:26984 [kernel]\nQuantizedCPU: registered at /Users/runner/work/pytorch/pytorch/pytorch/build/aten/src/ATen/RegisterQuantizedCPU.cpp:944 [kernel]\nBackendSelect: registered at /Users/runner/work/pytorch/pytorch/pytorch/build/aten/src/ATen/RegisterBackendSelect.cpp:807 [kernel]\nPython: registered at /Users/runner/work/pytorch/pytorch/pytorch/aten/src/ATen/core/PythonFallbackKernel.cpp:154 [backend fallback]\nFuncTorchDynamicLayerBackMode: registered at /Users/runner/work/pytorch/pytorch/pytorch/aten/src/ATen/functorch/DynamicLayer.cpp:498 [backend fallback]\nFunctionalize: registered at /Users/runner/work/pytorch/pytorch/pytorch/aten/src/ATen/FunctionalizeFallbackKernel.cpp:324 [backend fallback]\nNamed: registered at /Users/runner/work/pytorch/pytorch/pytorch/aten/src/ATen/core/NamedRegistrations.cpp:7 [backend fallback]\nConjugate: fallthrough registered at /Users/runner/work/pytorch/pytorch/pytorch/aten/src/ATen/ConjugateFallback.cpp:21 [kernel]\nNegative: fallthrough registered at /Users/runner/work/pytorch/pytorch/pytorch/aten/src/ATen/native/NegateFallback.cpp:23 [kernel]\nZeroTensor: fallthrough registered at /Users/runner/work/pytorch/pytorch/pytorch/aten/src/ATen/ZeroTensorFallback.cpp:90 [kernel]\nADInplaceOrView: fallthrough registered at /Users/runner/work/pytorch/pytorch/pytorch/aten/src/ATen/core/VariableFallbackKernel.cpp:86 [backend fallback]\nAutogradOther: registered at /Users/runner/work/pytorch/pytorch/pytorch/torch/csrc/autograd/generated/VariableType_2.cpp:19039 [autograd kernel]\nAutogradCPU: registered at /Users/runner/work/pytorch/pytorch/pytorch/torch/csrc/autograd/generated/VariableType_2.cpp:19039 [autograd kernel]\nAutogradCUDA: registered at /Users/runner/work/pytorch/pytorch/pytorch/torch/csrc/autograd/generated/VariableType_2.cpp:19039 [autograd kernel]\nAutogradHIP: registered at /Users/runner/work/pytorch/pytorch/pytorch/torch/csrc/autograd/generated/VariableType_2.cpp:19039 [autograd kernel]\nAutogradXLA: registered at /Users/runner/work/pytorch/pytorch/pytorch/torch/csrc/autograd/generated/VariableType_2.cpp:19039 [autograd kernel]\nAutogradMPS: registered at /Users/runner/work/pytorch/pytorch/pytorch/torch/csrc/autograd/generated/VariableType_2.cpp:19039 [autograd kernel]\nAutogradIPU: registered at /Users/runner/work/pytorch/pytorch/pytorch/torch/csrc/autograd/generated/VariableType_2.cpp:19039 [autograd kernel]\nAutogradXPU: registered at /Users/runner/work/pytorch/pytorch/pytorch/torch/csrc/autograd/generated/VariableType_2.cpp:19039 [autograd kernel]\nAutogradHPU: registered at /Users/runner/work/pytorch/pytorch/pytorch/torch/csrc/autograd/generated/VariableType_2.cpp:19039 [autograd kernel]\nAutogradVE: registered at /Users/runner/work/pytorch/pytorch/pytorch/torch/csrc/autograd/generated/VariableType_2.cpp:19039 [autograd kernel]\nAutogradLazy: registered at /Users/runner/work/pytorch/pytorch/pytorch/torch/csrc/autograd/generated/VariableType_2.cpp:19039 [autograd kernel]\nAutogradMTIA: registered at /Users/runner/work/pytorch/pytorch/pytorch/torch/csrc/autograd/generated/VariableType_2.cpp:19039 [autograd kernel]\nAutogradPrivateUse1: registered at /Users/runner/work/pytorch/pytorch/pytorch/torch/csrc/autograd/generated/VariableType_2.cpp:19039 [autograd kernel]\nAutogradPrivateUse2: registered at /Users/runner/work/pytorch/pytorch/pytorch/torch/csrc/autograd/generated/VariableType_2.cpp:19039 [autograd kernel]\nAutogradPrivateUse3: registered at /Users/runner/work/pytorch/pytorch/pytorch/torch/csrc/autograd/generated/VariableType_2.cpp:19039 [autograd kernel]\nAutogradMeta: registered at /Users/runner/work/pytorch/pytorch/pytorch/torch/csrc/autograd/generated/VariableType_2.cpp:19039 [autograd kernel]\nAutogradNestedTensor: registered at /Users/runner/work/pytorch/pytorch/pytorch/torch/csrc/autograd/generated/VariableType_2.cpp:19039 [autograd kernel]\nTracer: registered at /Users/runner/work/pytorch/pytorch/pytorch/torch/csrc/autograd/generated/TraceType_2.cpp:17346 [kernel]\nAutocastCPU: fallthrough registered at /Users/runner/work/pytorch/pytorch/pytorch/aten/src/ATen/autocast_mode.cpp:378 [backend fallback]\nAutocastCUDA: fallthrough registered at /Users/runner/work/pytorch/pytorch/pytorch/aten/src/ATen/autocast_mode.cpp:244 [backend fallback]\nFuncTorchBatched: registered at /Users/runner/work/pytorch/pytorch/pytorch/aten/src/ATen/functorch/LegacyBatchingRegistrations.cpp:720 [backend fallback]\nBatchedNestedTensor: registered at /Users/runner/work/pytorch/pytorch/pytorch/aten/src/ATen/functorch/LegacyBatchingRegistrations.cpp:746 [backend fallback]\nFuncTorchVmapMode: fallthrough registered at /Users/runner/work/pytorch/pytorch/pytorch/aten/src/ATen/functorch/VmapModeRegistrations.cpp:28 [backend fallback]\nBatched: registered at /Users/runner/work/pytorch/pytorch/pytorch/aten/src/ATen/LegacyBatchingRegistrations.cpp:1075 [backend fallback]\nVmapMode: fallthrough registered at /Users/runner/work/pytorch/pytorch/pytorch/aten/src/ATen/VmapModeRegistrations.cpp:33 [backend fallback]\nFuncTorchGradWrapper: registered at /Users/runner/work/pytorch/pytorch/pytorch/aten/src/ATen/functorch/TensorWrapper.cpp:203 [backend fallback]\nPythonTLSSnapshot: registered at /Users/runner/work/pytorch/pytorch/pytorch/aten/src/ATen/core/PythonFallbackKernel.cpp:162 [backend fallback]\nFuncTorchDynamicLayerFrontMode: registered at /Users/runner/work/pytorch/pytorch/pytorch/aten/src/ATen/functorch/DynamicLayer.cpp:494 [backend fallback]\nPreDispatch: registered at /Users/runner/work/pytorch/pytorch/pytorch/aten/src/ATen/core/PythonFallbackKernel.cpp:166 [backend fallback]\nPythonDispatcher: registered at /Users/runner/work/pytorch/pytorch/pytorch/aten/src/ATen/core/PythonFallbackKernel.cpp:158 [backend fallback]\n"
     ]
    }
   ],
   "source": [
    "import torch\n",
    "model = torch.jit.load('model_scripted.pt')\n",
    "model.eval()"
   ]
  },
  {
   "cell_type": "code",
   "execution_count": 59,
   "metadata": {},
   "outputs": [
    {
     "ename": "IndexError",
     "evalue": "tuple index out of range",
     "output_type": "error",
     "traceback": [
      "\u001b[0;31m---------------------------------------------------------------------------\u001b[0m",
      "\u001b[0;31mIndexError\u001b[0m                                Traceback (most recent call last)",
      "Cell \u001b[0;32mIn[59], line 1\u001b[0m\n\u001b[0;32m----> 1\u001b[0m \u001b[39mnext\u001b[39;49m(\u001b[39miter\u001b[39;49m(x_tr_dl))[\u001b[39m2\u001b[39;49m]\n",
      "\u001b[0;31mIndexError\u001b[0m: tuple index out of range"
     ]
    }
   ],
   "source": [
    "next(iter(x_tr_dl))[2]"
   ]
  },
  {
   "attachments": {},
   "cell_type": "markdown",
   "metadata": {},
   "source": [
    "### Predictions"
   ]
  },
  {
   "cell_type": "code",
   "execution_count": null,
   "metadata": {},
   "outputs": [],
   "source": [
    "test_text = []\n",
    "text, label = [],[]\n",
    "with open('test_data.json', 'r') as f:\n",
    "    for line in f:\n",
    "        test_text.append(json.loads(line)['text'])\n",
    "test_text = [', '.join([str(x) for x in tok]) for tok in test_text]"
   ]
  },
  {
   "cell_type": "code",
   "execution_count": null,
   "metadata": {},
   "outputs": [],
   "source": [
    "x_test = vectorizer.transform(test_text).toarray()\n",
    "test_dataloader = DataLoader(list(zip(x_test,x_test[:][0])), batch_size=batch_size, collate_fn=bow_collate_batch)"
   ]
  },
  {
   "cell_type": "code",
   "execution_count": null,
   "metadata": {},
   "outputs": [
    {
     "data": {
      "text/plain": [
       "'16, 1106, 11, 13662, 11783, 25, 2, 1673, 3782, 98, 16, 19, 291, 580, 259, 522, 16, 2126, 15, 6757, 3, 15410, 16915, 4, 5236, 16573, 1, 3855, 3, 16, 19, 150, 9435, 6, 16, 395, 3782, 3592, 5622, 1, 1, 1, 40, 3855, 55, 42, 19, 455, 35, 8, 5184, 30, 4713, 48, 19, 37, 112, 187, 5, 539, 46, 587, 13934, 127, 34, 2168, 19, 49, 4844, 118, 3024, 31, 450, 19, 49, 3729, 20, 940, 19, 49, 190, 333, 2317, 830, 95, 1518, 10, 49366'"
      ]
     },
     "execution_count": 342,
     "metadata": {},
     "output_type": "execute_result"
    }
   ],
   "source": [
    "x_tr_aug[1]"
   ]
  },
  {
   "cell_type": "code",
   "execution_count": null,
   "metadata": {},
   "outputs": [],
   "source": []
  }
 ],
 "metadata": {
  "kernelspec": {
   "display_name": "venv",
   "language": "python",
   "name": "python3"
  },
  "language_info": {
   "codemirror_mode": {
    "name": "ipython",
    "version": 3
   },
   "file_extension": ".py",
   "mimetype": "text/x-python",
   "name": "python",
   "nbconvert_exporter": "python",
   "pygments_lexer": "ipython3",
   "version": "3.10.11"
  },
  "orig_nbformat": 4
 },
 "nbformat": 4,
 "nbformat_minor": 2
}
