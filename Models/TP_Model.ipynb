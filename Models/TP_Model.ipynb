{
 "cells": [
  {
   "attachments": {},
   "cell_type": "markdown",
   "metadata": {},
   "source": [
    "> The idea of this notebook is to create a model to predictc tokens sequence probabilities with the objective of replacing the unknown tokens on the test data with this predicted tokens. The chosen model is a BiLSTM_NN with softmax activation due to these kind of models are state of the art for such tasks if we dont consider transformers or other kind of pretrained models."
   ]
  },
  {
   "attachments": {},
   "cell_type": "markdown",
   "metadata": {},
   "source": [
    "# 1. Data preprocessing"
   ]
  },
  {
   "cell_type": "code",
   "execution_count": 1,
   "metadata": {},
   "outputs": [],
   "source": [
    "# %pip install pandas"
   ]
  },
  {
   "cell_type": "code",
   "execution_count": 1,
   "metadata": {},
   "outputs": [],
   "source": [
    "from sklearn.model_selection import train_test_split\n",
    "import numpy as np\n",
    "import pandas as pd"
   ]
  },
  {
   "cell_type": "code",
   "execution_count": 3,
   "metadata": {},
   "outputs": [],
   "source": [
    "# Read data\n",
    "df1 = pd.read_json('../Data/domain1_train_data.json', lines=True)\n",
    "df2 = pd.read_json('../Data/domain2_train_data.json', lines=True)\n",
    "\n",
    "# Join data in both domains for trating them jointly (Augmentation)\n",
    "df = pd.concat([df1, df2]).reset_index(drop=True)['text']\n",
    "df = [[str(ch) for ch in l] for l in df]"
   ]
  },
  {
   "attachments": {},
   "cell_type": "markdown",
   "metadata": {},
   "source": [
    "# Build Text Generator model"
   ]
  },
  {
   "cell_type": "code",
   "execution_count": 4,
   "metadata": {},
   "outputs": [],
   "source": [
    "from collections import Counter\n",
    "# Function to get corpus\n",
    "def get_vocab(txt):\n",
    "    l_ = []\n",
    "    for l in txt:\n",
    "        l_.extend(l)\n",
    "    corpus = Counter(l_)\n",
    "    return corpus\n",
    "#  Get vocab\n",
    "unigram_counts = get_vocab([txt for txt in df])\n",
    "vocab = list(set(unigram_counts.keys()))\n",
    "vocab_size = len(vocab)"
   ]
  },
  {
   "cell_type": "code",
   "execution_count": 5,
   "metadata": {},
   "outputs": [],
   "source": [
    "from collections import defaultdict\n",
    "def convert_sentence(word, token): # Helper to add starting token\n",
    "    return [token] + [w for w in word]\n",
    "    \n",
    "# Function to create the bigrams\n",
    "def bigram_counter(set, token):\n",
    "    bigram_counts=defaultdict(Counter)\n",
    "    # collect bigram counts\n",
    "    for word in set:\n",
    "        word = convert_sentence(word, token) # Add starting token\n",
    "        # Count bigrams\n",
    "        for first, second in zip(word, word[1:]):\n",
    "            bigram_counts[first][second] += 1\n",
    "    return bigram_counts"
   ]
  },
  {
   "cell_type": "code",
   "execution_count": 6,
   "metadata": {},
   "outputs": [],
   "source": [
    "# Instanciate the bigrams\n",
    "bigram_counts = bigram_counter(df, '<s>')\n",
    "bigram_counts_r = bigram_counter([''.join(list(reversed(w))) for w in df], token= '</s>')    "
   ]
  },
  {
   "cell_type": "markdown",
   "metadata": {},
   "source": [
    "# Replace masked tokens"
   ]
  },
  {
   "cell_type": "code",
   "execution_count": 8,
   "metadata": {},
   "outputs": [],
   "source": [
    "test = pd.read_json('../Data/test_data.json', lines=True)['text']"
   ]
  },
  {
   "cell_type": "code",
   "execution_count": 9,
   "metadata": {},
   "outputs": [],
   "source": [
    "def replace_char(idx, t):\n",
    "    if t[idx-1] != 0 and bigram_counts[str(t[idx-1])]:\n",
    "        l_char = bigram_counts[str(t[idx-1])].most_common()[0][0]\n",
    "    else:\n",
    "        l_char = 1\n",
    "\n",
    "    if t[idx+1] != 0 and bigram_counts_r[str(t[idx+1])]:\n",
    "        r_char = bigram_counts_r[str(t[idx+1])].most_common()[0][0]\n",
    "    else:\n",
    "        r_char = 1\n",
    "    return l_char\n",
    "\n",
    "# Function to replace\n",
    "def replace(t):\n",
    "    t = ['<s>'] + [str(w) for w in t] + ['</s>']\n",
    "    for idx, tok in enumerate(t):\n",
    "        if tok == '0':\n",
    "            t[idx] = replace_char(idx, t)\n",
    "    t = t[1:-1] # Drop padding token\n",
    "    t = [int(tok) for tok in t]\n",
    "    return t"
   ]
  },
  {
   "cell_type": "code",
   "execution_count": 10,
   "metadata": {},
   "outputs": [],
   "source": [
    "test_ = [replace(t) for t in test]"
   ]
  },
  {
   "cell_type": "code",
   "execution_count": 22,
   "metadata": {},
   "outputs": [],
   "source": [
    "pd.Series(test_).to_csv('../Data/test_Data_unmasked.csv',)"
   ]
  },
  {
   "cell_type": "code",
   "execution_count": 26,
   "metadata": {},
   "outputs": [],
   "source": [
    "import json\n",
    "with open('../Data/test_Data_unmasked.json', 'w') as f:\n",
    "    json.dump(test_, f)"
   ]
  },
  {
   "cell_type": "code",
   "execution_count": null,
   "metadata": {},
   "outputs": [],
   "source": []
  }
 ],
 "metadata": {
  "kernelspec": {
   "display_name": "Python 3 (ipykernel)",
   "language": "python",
   "name": "python3"
  },
  "language_info": {
   "codemirror_mode": {
    "name": "ipython",
    "version": 3
   },
   "file_extension": ".py",
   "mimetype": "text/x-python",
   "name": "python",
   "nbconvert_exporter": "python",
   "pygments_lexer": "ipython3",
   "version": "3.9.6"
  }
 },
 "nbformat": 4,
 "nbformat_minor": 4
}
