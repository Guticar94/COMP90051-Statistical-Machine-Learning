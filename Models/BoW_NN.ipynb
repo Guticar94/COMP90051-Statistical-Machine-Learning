{
 "cells": [
  {
   "cell_type": "markdown",
   "metadata": {},
   "source": [
    "# 1. Data preprocessing"
   ]
  },
  {
   "cell_type": "code",
   "execution_count": 1,
   "metadata": {},
   "outputs": [],
   "source": [
    "from sklearn.model_selection import train_test_split\n",
    "import numpy as np\n",
    "import pandas as pd\n",
    "import re"
   ]
  },
  {
   "cell_type": "code",
   "execution_count": 3,
   "metadata": {},
   "outputs": [
    {
     "name": "stdout",
     "output_type": "stream",
     "text": [
      "label\n",
      "0    0.81\n",
      "1    0.19\n",
      "Name: count, dtype: float64\n"
     ]
    }
   ],
   "source": [
    "# Read data\n",
    "df1 = pd.read_json('../Data/domain1_train_data.json', lines=True)\n",
    "df2 = pd.read_json('../Data/domain2_train_data.json', lines=True)\n",
    "\n",
    "# Define Domains\n",
    "df1['domain'], df2['domain'] = 0, 1\n",
    "\n",
    "# Split set 1\n",
    "df1_train, df1_dev = train_test_split(df1, stratify=df1['label'], random_state=0, test_size=0.2)\n",
    "# Split set 2\n",
    "x2_1 = df2[df2['label'] == 1].sample(500, random_state=0)\n",
    "x2_0 = df2[df2['label'] == 0].sample(500, random_state=0)\n",
    "df2_train = df2[[i not in list(pd.concat([x2_1, x2_0]).reset_index()['index']) for i in df2.index]].reset_index(drop=True)\n",
    "df2_dev = pd.concat([x2_1,x2_0]).reset_index(drop=True)\n",
    "\n",
    "# Join data in both domains for trating them jointly (Augmentation)\n",
    "dev_set = pd.concat([df1_dev, df2_dev]).reset_index(drop=True)\n",
    "train_set = pd.concat([df1_train, df2_train]).reset_index(drop=True)\n",
    "\n",
    "# Train and dev sets\n",
    "x_tr, y_train = [re.sub(',', '', ', '.join([str(x) for x in tok])) for tok in train_set['text']], train_set['label']\n",
    "x_dev, y_dev = [re.sub(',', '',', '.join([str(x) for x in tok])) for tok in dev_set['text']], dev_set['label']\n",
    "\n",
    "# Print classes proportion\n",
    "print(round(train_set['label'].value_counts()/len(train_set['label']),2))"
   ]
  },
  {
   "cell_type": "markdown",
   "metadata": {},
   "source": [
    "# 2. Encoding"
   ]
  },
  {
   "cell_type": "code",
   "execution_count": 4,
   "metadata": {},
   "outputs": [
    {
     "name": "stdout",
     "output_type": "stream",
     "text": [
      "Elapsed time: 43.464\n"
     ]
    }
   ],
   "source": [
    "from sklearn.feature_extraction.text import CountVectorizer\n",
    "import time\n",
    "\n",
    "st = time.time()\n",
    "# Cvec encoding\n",
    "Cvec = CountVectorizer(ngram_range=(8,11))\n",
    "x_train = Cvec.fit_transform(x_tr)\n",
    "x_dev = Cvec.transform(x_dev)\n",
    "et = time.time()\n",
    "print(f'Elapsed time: {et-st:.3f}')"
   ]
  },
  {
   "attachments": {},
   "cell_type": "markdown",
   "metadata": {},
   "source": [
    "# 3 DL Models (Embeding model)"
   ]
  },
  {
   "cell_type": "code",
   "execution_count": 5,
   "metadata": {},
   "outputs": [
    {
     "data": {
      "text/plain": [
       "<torch._C.Generator at 0x7f772d630750>"
      ]
     },
     "execution_count": 5,
     "metadata": {},
     "output_type": "execute_result"
    }
   ],
   "source": [
    "import pandas as pd\n",
    "import torch\n",
    "from torch.utils.data import DataLoader, Dataset\n",
    "device = torch.device('cuda' if torch.cuda.is_available() else 'cpu')\n",
    "torch.manual_seed(42)"
   ]
  },
  {
   "cell_type": "code",
   "execution_count": 6,
   "metadata": {},
   "outputs": [],
   "source": [
    "# Weights function\n",
    "def weights(df):\n",
    "    w = list(len(df['label'])/df['label'].value_counts())\n",
    "    sample_weights = [0] * df.shape[0]\n",
    "    for idx, label in enumerate(df['label']):\n",
    "        sample_weights[idx] = w[label]\n",
    "    return sample_weights\n",
    "\n",
    "# Prepare pytorch dataset\n",
    "class SparseDataset(Dataset):\n",
    "\n",
    "    def __init__(self, mat_csc, label, device='cpu'):\n",
    "        self.dim = mat_csc.shape\n",
    "        self.device = torch.device(device)\n",
    "        csr = mat_csc.tocsr(copy=True)\n",
    "        # csr indptr, indices and data\n",
    "        self.indptr = torch.tensor(csr.indptr, dtype=torch.int64, device=self.device)\n",
    "        self.indices = torch.tensor(csr.indices, dtype=torch.int64, device=self.device)\n",
    "        self.data = torch.tensor(csr.data, dtype=torch.float32, device=self.device)\n",
    "        # df label\n",
    "        self.label = torch.tensor(label, dtype=torch.float32, device=self.device)\n",
    "    def __len__(self):\n",
    "        return self.dim[0]\n",
    "    def __getitem__(self, idx):\n",
    "        obs = torch.zeros((self.dim[1],), dtype=torch.float32, device=self.device)\n",
    "        ind1,ind2 = self.indptr[idx],self.indptr[idx+1]\n",
    "        obs[self.indices[ind1:ind2]] = self.data[ind1:ind2]\n",
    "        return obs,self.label[idx]\n",
    "\n",
    "# Define collate (pre_process) function\n",
    "def collate_batch(batch):  \n",
    "    texts, labels = zip(*batch)\n",
    "    text_len = [len(txt) for txt in texts]\n",
    "    text = nn.utils.rnn.pad_sequence(texts, batch_first=True).to(device)\n",
    "    labels = torch.tensor(labels, dtype=torch.float32).to(device).reshape(-1,1)\n",
    "    return text, labels, text_len, domain\n",
    "\n",
    "# Create datasets\n",
    "train_DS = SparseDataset(x_train, y_train.values, device)\n",
    "dev_DS = SparseDataset(x_dev, y_dev.values, device)\n",
    "\n",
    "# Sample train data\n",
    "sampler_tr = torch.utils.data.WeightedRandomSampler(weights(train_set), num_samples=len(train_DS), replacement=True)\n",
    "\n",
    "# Create dataloaders\n",
    "bs = 32\n",
    "x_tr_dl = DataLoader(train_DS, batch_size=bs, sampler=sampler_tr)\n",
    "x_dev_dl = DataLoader(dev_DS, batch_size=bs)"
   ]
  },
  {
   "cell_type": "code",
   "execution_count": 7,
   "metadata": {},
   "outputs": [],
   "source": [
    "from torch import nn\n",
    "class BowNetwork(nn.Module):\n",
    "    def __init__(self, vocab_size, hidden_dim):\n",
    "        super().__init__()\n",
    "        self.first_layer = nn.Linear(vocab_size, hidden_dim) \n",
    "        nn.init.uniform_(self.first_layer.weight)\n",
    "        self.second_layer = nn.Linear(hidden_dim, hidden_dim)\n",
    "        self.third_layer = nn.Linear(hidden_dim, 1)\n",
    "        self.dropout = nn.Dropout(0.1)\n",
    "\n",
    "    def forward(self, x):\n",
    "        x = self.dropout(x)\n",
    "        x = torch.relu(self.first_layer(x)) \n",
    "        x = torch.relu(self.second_layer(x))\n",
    "        logits = self.third_layer(x)\n",
    "        return self.dropout(logits)"
   ]
  },
  {
   "cell_type": "code",
   "execution_count": 8,
   "metadata": {},
   "outputs": [
    {
     "name": "stdout",
     "output_type": "stream",
     "text": [
      "BowNetwork(\n",
      "  (first_layer): Linear(in_features=10312904, out_features=64, bias=True)\n",
      "  (second_layer): Linear(in_features=64, out_features=64, bias=True)\n",
      "  (third_layer): Linear(in_features=64, out_features=1, bias=True)\n",
      "  (dropout): Dropout(p=0.1, inplace=False)\n",
      ")\n"
     ]
    }
   ],
   "source": [
    "vocab_size = x_train.shape[1]\n",
    "bow_model = BowNetwork(vocab_size, 64).to(device)\n",
    "print(bow_model)"
   ]
  },
  {
   "cell_type": "code",
   "execution_count": 9,
   "metadata": {},
   "outputs": [],
   "source": [
    "# Optimizer\n",
    "optimizer = torch.optim.Adam(bow_model.parameters())\n",
    "\n",
    "def weights_class(y):\n",
    "    y = pd.Series(y.int().numpy(force=True).reshape(-1))\n",
    "    w = len(y)/y.value_counts()\n",
    "    try:\n",
    "        return w[1]\n",
    "        \n",
    "    except:\n",
    "        return 1"
   ]
  },
  {
   "cell_type": "code",
   "execution_count": 10,
   "metadata": {},
   "outputs": [],
   "source": [
    "from sklearn.metrics import f1_score\n",
    "from tqdm import tqdm\n",
    "# Train\n",
    "def train(dataloader, model, optimizer):\n",
    "    size = len(dataloader.dataset)\n",
    "    model.train()\n",
    "    train_loss, total, acc, real, preds = 0, 0, 0, [], []\n",
    "    for X, y in tqdm(dataloader):\n",
    "        pred = model(X).reshape(-1)                                             # Forward pass\n",
    "        loss_fn = nn.BCEWithLogitsLoss(weight = torch.tensor(weights_class(y)).to(device))\n",
    "        loss = loss_fn(pred, y)                                     # Compute loss \n",
    "        loss.backward()                                             # Backpropagation\n",
    "        optimizer.step()                                            # Update parameters\n",
    "        optimizer.zero_grad()                                       # Reset gradient\n",
    "        # Metrics\n",
    "        pr = torch.sigmoid(pred)\n",
    "        acc += torch.sum((pr>=0.5).float() == y)\n",
    "        real.extend((y>=0.5).int().detach().cpu().numpy().reshape(-1,1))\n",
    "        preds.extend((pr>=0.5).int().detach().cpu().numpy().reshape(-1,1))\n",
    "        train_loss += loss.item()\n",
    "        total += len(y)\n",
    "    # General metrics\n",
    "    train_loss /= total\n",
    "    return train_loss, acc/size, f1_score(real, preds)"
   ]
  },
  {
   "cell_type": "code",
   "execution_count": 11,
   "metadata": {},
   "outputs": [],
   "source": [
    "# Test\n",
    "def test(dataloader, model):\n",
    "    size = len(dataloader.dataset)\n",
    "    model.eval()\n",
    "    test_loss, total, acc, real, preds = 0, 0, 0, [], []\n",
    "    with torch.no_grad():       # Specify no gradient\n",
    "        for X, y in dataloader:\n",
    "            \n",
    "            pred = model(X).reshape(-1)                                         # Forward pass\n",
    "            loss_fn = nn.BCEWithLogitsLoss(weight = torch.tensor(weights_class(y)).to(device))\n",
    "            \n",
    "            # Metrics\n",
    "            pr = torch.sigmoid(pred)\n",
    "            acc += torch.sum((pr>=0.5).float() == y)\n",
    "            real.extend((y>=0.5).int().detach().cpu().numpy().reshape(-1,1))\n",
    "            preds.extend((pr>=0.5).int().detach().cpu().numpy().reshape(-1,1))\n",
    "            \n",
    "            test_loss += loss_fn(pred, y).item()    # Compute loss  \n",
    "            total += len(y)                         # Total observations\n",
    "\n",
    "    # General metrics\n",
    "    test_loss /= total\n",
    "    return test_loss, acc/size, f1_score(real, preds)"
   ]
  },
  {
   "cell_type": "code",
   "execution_count": 12,
   "metadata": {},
   "outputs": [
    {
     "name": "stdout",
     "output_type": "stream",
     "text": [
      "Training BOW feedforward network model!\n"
     ]
    },
    {
     "name": "stderr",
     "output_type": "stream",
     "text": [
      "100%|██████████| 500/500 [01:00<00:00,  8.32it/s]\n"
     ]
    },
    {
     "name": "stdout",
     "output_type": "stream",
     "text": [
      "epoch #0\ttrain_acc: 0.698\tvalid_acc: 0.931\n",
      "epoch #0\tf1_tr: 0.690\t\tf1_ts: 0.931\n"
     ]
    },
    {
     "name": "stderr",
     "output_type": "stream",
     "text": [
      "100%|██████████| 500/500 [00:59<00:00,  8.34it/s]\n"
     ]
    },
    {
     "name": "stdout",
     "output_type": "stream",
     "text": [
      "epoch #1\ttrain_acc: 0.899\tvalid_acc: 0.903\n",
      "epoch #1\tf1_tr: 0.903\t\tf1_ts: 0.906\n"
     ]
    },
    {
     "name": "stderr",
     "output_type": "stream",
     "text": [
      "100%|██████████| 500/500 [01:00<00:00,  8.29it/s]\n"
     ]
    },
    {
     "name": "stdout",
     "output_type": "stream",
     "text": [
      "epoch #2\ttrain_acc: 0.929\tvalid_acc: 0.913\n",
      "epoch #2\tf1_tr: 0.932\t\tf1_ts: 0.915\n"
     ]
    },
    {
     "name": "stderr",
     "output_type": "stream",
     "text": [
      "100%|██████████| 500/500 [01:00<00:00,  8.30it/s]\n"
     ]
    },
    {
     "name": "stdout",
     "output_type": "stream",
     "text": [
      "epoch #3\ttrain_acc: 0.949\tvalid_acc: 0.926\n",
      "epoch #3\tf1_tr: 0.952\t\tf1_ts: 0.926\n"
     ]
    },
    {
     "name": "stderr",
     "output_type": "stream",
     "text": [
      "100%|██████████| 500/500 [01:00<00:00,  8.29it/s]\n"
     ]
    },
    {
     "name": "stdout",
     "output_type": "stream",
     "text": [
      "epoch #4\ttrain_acc: 0.951\tvalid_acc: 0.929\n",
      "epoch #4\tf1_tr: 0.953\t\tf1_ts: 0.929\n"
     ]
    },
    {
     "name": "stderr",
     "output_type": "stream",
     "text": [
      "100%|██████████| 500/500 [01:00<00:00,  8.30it/s]\n"
     ]
    },
    {
     "name": "stdout",
     "output_type": "stream",
     "text": [
      "epoch #5\ttrain_acc: 0.947\tvalid_acc: 0.928\n",
      "epoch #5\tf1_tr: 0.949\t\tf1_ts: 0.928\n"
     ]
    },
    {
     "name": "stderr",
     "output_type": "stream",
     "text": [
      "100%|██████████| 500/500 [01:00<00:00,  8.30it/s]\n"
     ]
    },
    {
     "name": "stdout",
     "output_type": "stream",
     "text": [
      "epoch #6\ttrain_acc: 0.950\tvalid_acc: 0.929\n",
      "epoch #6\tf1_tr: 0.952\t\tf1_ts: 0.930\n"
     ]
    },
    {
     "name": "stderr",
     "output_type": "stream",
     "text": [
      "100%|██████████| 500/500 [01:00<00:00,  8.30it/s]\n"
     ]
    },
    {
     "name": "stdout",
     "output_type": "stream",
     "text": [
      "epoch #7\ttrain_acc: 0.949\tvalid_acc: 0.926\n",
      "epoch #7\tf1_tr: 0.951\t\tf1_ts: 0.926\n"
     ]
    },
    {
     "name": "stderr",
     "output_type": "stream",
     "text": [
      "100%|██████████| 500/500 [01:00<00:00,  8.30it/s]\n"
     ]
    },
    {
     "name": "stdout",
     "output_type": "stream",
     "text": [
      "epoch #8\ttrain_acc: 0.949\tvalid_acc: 0.924\n",
      "epoch #8\tf1_tr: 0.951\t\tf1_ts: 0.925\n"
     ]
    },
    {
     "name": "stderr",
     "output_type": "stream",
     "text": [
      "100%|██████████| 500/500 [01:00<00:00,  8.30it/s]\n"
     ]
    },
    {
     "name": "stdout",
     "output_type": "stream",
     "text": [
      "epoch #9\ttrain_acc: 0.949\tvalid_acc: 0.929\n",
      "epoch #9\tf1_tr: 0.952\t\tf1_ts: 0.929\n"
     ]
    },
    {
     "name": "stderr",
     "output_type": "stream",
     "text": [
      "100%|██████████| 500/500 [01:00<00:00,  8.30it/s]\n"
     ]
    },
    {
     "name": "stdout",
     "output_type": "stream",
     "text": [
      "epoch #10\ttrain_acc: 0.948\tvalid_acc: 0.927\n",
      "epoch #10\tf1_tr: 0.951\t\tf1_ts: 0.927\n"
     ]
    },
    {
     "name": "stderr",
     "output_type": "stream",
     "text": [
      "100%|██████████| 500/500 [01:00<00:00,  8.30it/s]\n"
     ]
    },
    {
     "name": "stdout",
     "output_type": "stream",
     "text": [
      "epoch #11\ttrain_acc: 0.950\tvalid_acc: 0.929\n",
      "epoch #11\tf1_tr: 0.952\t\tf1_ts: 0.930\n"
     ]
    },
    {
     "name": "stderr",
     "output_type": "stream",
     "text": [
      "100%|██████████| 500/500 [01:00<00:00,  8.30it/s]\n"
     ]
    },
    {
     "name": "stdout",
     "output_type": "stream",
     "text": [
      "epoch #12\ttrain_acc: 0.951\tvalid_acc: 0.925\n",
      "epoch #12\tf1_tr: 0.953\t\tf1_ts: 0.926\n"
     ]
    },
    {
     "name": "stderr",
     "output_type": "stream",
     "text": [
      "100%|██████████| 500/500 [01:00<00:00,  8.30it/s]\n"
     ]
    },
    {
     "name": "stdout",
     "output_type": "stream",
     "text": [
      "epoch #13\ttrain_acc: 0.933\tvalid_acc: 0.921\n",
      "epoch #13\tf1_tr: 0.936\t\tf1_ts: 0.922\n"
     ]
    },
    {
     "name": "stderr",
     "output_type": "stream",
     "text": [
      "100%|██████████| 500/500 [01:00<00:00,  8.30it/s]\n"
     ]
    },
    {
     "name": "stdout",
     "output_type": "stream",
     "text": [
      "epoch #14\ttrain_acc: 0.948\tvalid_acc: 0.926\n",
      "epoch #14\tf1_tr: 0.950\t\tf1_ts: 0.927\n"
     ]
    },
    {
     "name": "stderr",
     "output_type": "stream",
     "text": [
      " 78%|███████▊  | 392/500 [00:47<00:13,  8.29it/s]\n"
     ]
    },
    {
     "ename": "KeyboardInterrupt",
     "evalue": "",
     "output_type": "error",
     "traceback": [
      "\u001b[0;31m---------------------------------------------------------------------------\u001b[0m",
      "\u001b[0;31mKeyboardInterrupt\u001b[0m                         Traceback (most recent call last)",
      "Cell \u001b[0;32mIn[12], line 8\u001b[0m\n\u001b[1;32m      6\u001b[0m \u001b[38;5;28mprint\u001b[39m(\u001b[38;5;124m\"\u001b[39m\u001b[38;5;124mTraining BOW feedforward network model!\u001b[39m\u001b[38;5;124m\"\u001b[39m)\n\u001b[1;32m      7\u001b[0m \u001b[38;5;28;01mfor\u001b[39;00m t \u001b[38;5;129;01min\u001b[39;00m \u001b[38;5;28mrange\u001b[39m(epochs):\n\u001b[0;32m----> 8\u001b[0m     tl, train_acc, f1_tr \u001b[38;5;241m=\u001b[39m \u001b[43mtrain\u001b[49m\u001b[43m(\u001b[49m\u001b[43mx_tr_dl\u001b[49m\u001b[43m,\u001b[49m\u001b[43m \u001b[49m\u001b[43mbow_model\u001b[49m\u001b[43m,\u001b[49m\u001b[43m \u001b[49m\u001b[43moptimizer\u001b[49m\u001b[43m)\u001b[49m\n\u001b[1;32m      9\u001b[0m     vl, valid_acc, f1_ts \u001b[38;5;241m=\u001b[39m test(x_dev_dl, bow_model)\n\u001b[1;32m     10\u001b[0m     \u001b[38;5;66;03m# Losses to dict\u001b[39;00m\n",
      "Cell \u001b[0;32mIn[10], line 18\u001b[0m, in \u001b[0;36mtrain\u001b[0;34m(dataloader, model, optimizer)\u001b[0m\n\u001b[1;32m     16\u001b[0m pr \u001b[38;5;241m=\u001b[39m torch\u001b[38;5;241m.\u001b[39msigmoid(pred)\n\u001b[1;32m     17\u001b[0m acc \u001b[38;5;241m+\u001b[39m\u001b[38;5;241m=\u001b[39m torch\u001b[38;5;241m.\u001b[39msum((pr\u001b[38;5;241m>\u001b[39m\u001b[38;5;241m=\u001b[39m\u001b[38;5;241m0.5\u001b[39m)\u001b[38;5;241m.\u001b[39mfloat() \u001b[38;5;241m==\u001b[39m y)\n\u001b[0;32m---> 18\u001b[0m real\u001b[38;5;241m.\u001b[39mextend(\u001b[43m(\u001b[49m\u001b[43my\u001b[49m\u001b[38;5;241;43m>\u001b[39;49m\u001b[38;5;241;43m=\u001b[39;49m\u001b[38;5;241;43m0.5\u001b[39;49m\u001b[43m)\u001b[49m\u001b[38;5;241;43m.\u001b[39;49m\u001b[43mint\u001b[49m\u001b[43m(\u001b[49m\u001b[43m)\u001b[49m\u001b[38;5;241;43m.\u001b[39;49m\u001b[43mdetach\u001b[49m\u001b[43m(\u001b[49m\u001b[43m)\u001b[49m\u001b[38;5;241;43m.\u001b[39;49m\u001b[43mcpu\u001b[49m\u001b[43m(\u001b[49m\u001b[43m)\u001b[49m\u001b[38;5;241m.\u001b[39mnumpy()\u001b[38;5;241m.\u001b[39mreshape(\u001b[38;5;241m-\u001b[39m\u001b[38;5;241m1\u001b[39m,\u001b[38;5;241m1\u001b[39m))\n\u001b[1;32m     19\u001b[0m preds\u001b[38;5;241m.\u001b[39mextend((pr\u001b[38;5;241m>\u001b[39m\u001b[38;5;241m=\u001b[39m\u001b[38;5;241m0.5\u001b[39m)\u001b[38;5;241m.\u001b[39mint()\u001b[38;5;241m.\u001b[39mdetach()\u001b[38;5;241m.\u001b[39mcpu()\u001b[38;5;241m.\u001b[39mnumpy()\u001b[38;5;241m.\u001b[39mreshape(\u001b[38;5;241m-\u001b[39m\u001b[38;5;241m1\u001b[39m,\u001b[38;5;241m1\u001b[39m))\n\u001b[1;32m     20\u001b[0m train_loss \u001b[38;5;241m+\u001b[39m\u001b[38;5;241m=\u001b[39m loss\u001b[38;5;241m.\u001b[39mitem()\n",
      "\u001b[0;31mKeyboardInterrupt\u001b[0m: "
     ]
    }
   ],
   "source": [
    "from tqdm import tqdm # show progress bar\n",
    "\n",
    "# Epochs\n",
    "epochs = 10\n",
    "train_loss, valid_loss = [], []\n",
    "print(\"Training BOW feedforward network model!\")\n",
    "for t in range(epochs):\n",
    "    tl, train_acc, f1_tr = train(x_tr_dl, bow_model, optimizer)\n",
    "    vl, valid_acc, f1_ts = test(x_dev_dl, bow_model)\n",
    "    # Losses to dict\n",
    "    train_loss.append(tl)\n",
    "    valid_loss.append(vl)\n",
    "    # Print results\n",
    "    tqdm.write(\n",
    "        f'epoch #{t}\\ttrain_acc: {train_acc:.3f}\\tvalid_acc: {valid_acc:.3f}',\n",
    "    )\n",
    "    tqdm.write(\n",
    "        f'epoch #{t}\\tf1_tr: {f1_tr:.3f}\\t\\tf1_ts: {f1_ts:.3f}',\n",
    "    )"
   ]
  },
  {
   "cell_type": "code",
   "execution_count": 13,
   "metadata": {},
   "outputs": [
    {
     "data": {
      "image/png": "[encoded data removed]",
      "text/plain": [
       "<Figure size 1000x500 with 1 Axes>"
      ]
     },
     "metadata": {},
     "output_type": "display_data"
    }
   ],
   "source": [
    "import matplotlib.pyplot as plt\n",
    "plt.style.use('ggplot')\n",
    "plt.figure(figsize=(10,5))\n",
    "epoch_ticks = range(1, t + 1)\n",
    "plt.plot(epoch_ticks, train_loss)\n",
    "plt.plot(epoch_ticks, valid_loss)\n",
    "plt.legend(['Train Loss', 'Valid Loss'])\n",
    "plt.title('Losses') \n",
    "plt.xlabel('Epoch #')\n",
    "plt.ylabel('Loss')\n",
    "plt.xticks(epoch_ticks)\n",
    "plt.show()"
   ]
  },
  {
   "cell_type": "markdown",
   "metadata": {},
   "source": [
    "# Predict on sample data"
   ]
  },
  {
   "cell_type": "code",
   "execution_count": 17,
   "metadata": {},
   "outputs": [],
   "source": [
    "# Predict on sample data\n",
    "# Read data\n",
    "test = [re.sub(',', '',', '.join([str(x) for x in tok])) for tok in pd.read_json('../Data/test_data.json', lines=True)['text']]\n",
    "# Encoding\n",
    "x_test = Cvec.transform(test)\n",
    "test_DS = SparseDataset(x_test, [0] * len(test), device)\n",
    "ts_dl = DataLoader(test_DS, batch_size=32)"
   ]
  },
  {
   "cell_type": "code",
   "execution_count": 18,
   "metadata": {},
   "outputs": [],
   "source": [
    "# predict on data\n",
    "preds = []\n",
    "for batch in iter(ts_dl):\n",
    "    x_test, y = batch\n",
    "    # Predict\n",
    "    pr = torch.sigmoid(bow_model(x_test).reshape(-1))\n",
    "    test_pred = [int(i) for i in (pr>0.49).int()]\n",
    "    preds.extend(test_pred)"
   ]
  },
  {
   "cell_type": "code",
   "execution_count": 15,
   "metadata": {},
   "outputs": [
    {
     "data": {
      "text/plain": [
       "0.884"
      ]
     },
     "execution_count": 15,
     "metadata": {},
     "output_type": "execute_result"
    }
   ],
   "source": [
    "sum(np.array(preds) == y_dev)/len(y_dev)"
   ]
  },
  {
   "cell_type": "code",
   "execution_count": 19,
   "metadata": {},
   "outputs": [],
   "source": [
    "# Create DF\n",
    "df = pd.DataFrame([[i,j] for i,j in enumerate(preds)], columns=['id', 'class'])\n",
    "# Save file\n",
    "df.to_csv('../Data/predictions.csv', index=False)"
   ]
  },
  {
   "cell_type": "code",
   "execution_count": null,
   "metadata": {},
   "outputs": [],
   "source": [
    "import pandas as pd\n",
    "from sklearn.model_selection import train_test_split\n",
    "import re"
   ]
  },
  {
   "cell_type": "code",
   "execution_count": null,
   "metadata": {},
   "outputs": [],
   "source": [
    "# Read data\n",
    "df1 = pd.read_json('../Data/domain1_train_data.json', lines=True)\n",
    "df2 = pd.read_json('../Data/domain2_train_data.json', lines=True)\n",
    "\n",
    "df1['domain'], df2['domain'] = 0, 1\n",
    "df3 = pd.concat([df1, df2])"
   ]
  },
  {
   "cell_type": "code",
   "execution_count": null,
   "metadata": {},
   "outputs": [],
   "source": [
    "# Data oversampling\n",
    "from imblearn.over_sampling import RandomOverSampler\n",
    "from imblearn.under_sampling import RandomUnderSampler\n",
    "\n",
    "# Split d1\n",
    "df1_train, df1_dev = train_test_split(df1, random_state=42, test_size=1000)\n",
    "# Split d2\n",
    "df_2_0 = df2[df2['label'] == 0].sample(n=500, random_state=42)\n",
    "df_2_1 = df2[df2['label'] == 1].sample(n=500, random_state=42)\n",
    "df2_train = df2[[i not in pd.concat([df_2_0, df_2_1]).index for i in df2.index]].reset_index(drop=True)\n",
    "df2_train = pd.concat([df2_train[df2_train['label'] == 0].sample(n=2000, random_state=42), df2_train[df2_train['label'] == 1]])  ####\n",
    "df2_dev = pd.concat([df_2_0, df_2_1]).reset_index(drop=True)\n",
    "\n",
    "# # transform the dataset\n",
    "sampler = RandomOverSampler()\n",
    "df2_train, _ = sampler.fit_resample(df2_train, df2_train['label'])\n",
    "\n",
    "# Join data in both domains for trating them jointly (Augmentation)\n",
    "dev_set = pd.concat([df1_dev, df2_dev]).reset_index(drop=True)\n",
    "df3_train = pd.concat([df1_train, df2_train]).reset_index(drop=True)\n",
    "\n",
    "# Train and dev sets\n",
    "x_tr, y_train = [re.sub(',', '', ', '.join([str(x) for x in tok])) for tok in df3_train['text']], df3_train['label']\n",
    "x_dev, y_dev = [re.sub(',', '',', '.join([str(x) for x in tok])) for tok in dev_set['text']], dev_set['label']"
   ]
  },
  {
   "cell_type": "code",
   "execution_count": null,
   "metadata": {},
   "outputs": [],
   "source": [
    "from sklearn.feature_extraction.text import CountVectorizer, TfidfVectorizer\n",
    "\n",
    "# # Cvec encoding\n",
    "# Cvec = CountVectorizer(ngram_range=(1,3))\n",
    "# x_train = Cvec.fit_transform(x_tr)\n",
    "# x_dev = Cvec.transform(x_dev)\n",
    "\n",
    "# Tvec encoding\n",
    "Tvec = TfidfVectorizer()\n",
    "x_train = Tvec.fit_transform(x_tr)\n",
    "# x_dev = Tvec.transform(x_dev)"
   ]
  },
  {
   "cell_type": "code",
   "execution_count": null,
   "metadata": {},
   "outputs": [],
   "source": [
    "from sklearn.decomposition import PCA\n",
    "from sklearn.preprocessing import StandardScaler\n",
    "pca = PCA(3, svd_solver='arpack')\n",
    "comps = pca.fit_transform(StandardScaler(with_mean=False).fit_transform(x_train))\n",
    "\n",
    "# from sklearn.decomposition import TruncatedSVD\n",
    "# svd = TruncatedSVD(n_components=3)\n",
    "# comps = svd.fit_transform(x_train)\n",
    "\n",
    "# from sklearn.cross_decomposition import PLSCanonical\n",
    "# plsca = PLSCanonical(n_components=1)\n",
    "# comps = plsca.fit(x_train.toarray(), y_train)"
   ]
  },
  {
   "cell_type": "code",
   "execution_count": null,
   "metadata": {},
   "outputs": [],
   "source": [
    "from sklearn.manifold import TSNE\n",
    "import matplotlib.pyplot as plt\n",
    "# t-SNE\n",
    "perplexity = 150\n",
    "t_sne = TSNE(n_components=2, perplexity=perplexity, init=\"random\")\n",
    "comps = t_sne.fit_transform(x_train)\n",
    "\n",
    "plt.scatter(comps.T[0], comps.T[1], c= df3_train['label'])"
   ]
  },
  {
   "cell_type": "code",
   "execution_count": null,
   "metadata": {},
   "outputs": [],
   "source": [
    "import matplotlib.pyplot as plt\n",
    "import numpy as np\n",
    "\n",
    "# Fixing random state for reproducibility\n",
    "np.random.seed(19680801)\n",
    "\n",
    "\n",
    "def randrange(n, vmin, vmax):\n",
    "    \"\"\"\n",
    "    Helper function to make an array of random numbers having shape (n, )\n",
    "    with each number distributed Uniform(vmin, vmax).\n",
    "    \"\"\"\n",
    "    return (vmax - vmin)*np.random.rand(n) + vmin\n",
    "\n",
    "fig = plt.figure()\n",
    "ax = fig.add_subplot(projection='3d')\n",
    "\n",
    "n = 100\n",
    "\n",
    "# For each set of style and range settings, plot n random points in the box\n",
    "# defined by x in [23, 32], y in [0, 100], z in [zlow, zhigh].\n",
    "for m, zlow, zhigh in [('o', -50, -25), ('^', -30, -5)]:\n",
    "    xs = comps.T[0]\n",
    "    ys = comps.T[1]\n",
    "    zs = comps.T[2]\n",
    "    ax.scatter(xs, ys, zs, marker=m, c=df3['label'])\n",
    "\n",
    "ax.set_xlabel('X Label')\n",
    "ax.set_ylabel('Y Label')\n",
    "ax.set_zlabel('Z Label')\n",
    "\n",
    "plt.show()"
   ]
  },
  {
   "cell_type": "code",
   "execution_count": null,
   "metadata": {},
   "outputs": [],
   "source": []
  }
 ],
 "metadata": {
  "kernelspec": {
   "display_name": "Python 3 (ipykernel)",
   "language": "python",
   "name": "python3"
  },
  "language_info": {
   "codemirror_mode": {
    "name": "ipython",
    "version": 3
   },
   "file_extension": ".py",
   "mimetype": "text/x-python",
   "name": "python",
   "nbconvert_exporter": "python",
   "pygments_lexer": "ipython3",
   "version": "3.9.6"
  }
 },
 "nbformat": 4,
 "nbformat_minor": 4
}
