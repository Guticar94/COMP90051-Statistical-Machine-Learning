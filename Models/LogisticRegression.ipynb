{
 "cells": [
  {
   "cell_type": "markdown",
   "metadata": {},
   "source": [
    "# 1. Data preprocessing"
   ]
  },
  {
   "cell_type": "code",
   "execution_count": 1,
   "metadata": {},
   "outputs": [],
   "source": [
    "from sklearn.model_selection import train_test_split\n",
    "import numpy as np\n",
    "import pandas as pd\n",
    "import re"
   ]
  },
  {
   "cell_type": "code",
   "execution_count": 2,
   "metadata": {},
   "outputs": [],
   "source": [
    "# Read data\n",
    "df1 = pd.read_json('../Data/domain1_train_data.json', lines=True)\n",
    "df2 = pd.read_json('../Data/domain2_train_data.json', lines=True)\n",
    "\n",
    "df1['domain'], df2['domain'] = 1, 2"
   ]
  },
  {
   "cell_type": "code",
   "execution_count": 38,
   "metadata": {},
   "outputs": [],
   "source": [
    "# Data oversampling\n",
    "from imblearn.over_sampling import RandomOverSampler\n",
    "from imblearn.under_sampling import RandomUnderSampler\n",
    "\n",
    "# Split d1\n",
    "df1_train, df1_dev = train_test_split(df1, stratify=df1['label'], random_state=42, test_size=1000)\n",
    "# Split d2\n",
    "df_2_0 = df2[df2['label'] == 0].sample(n=500, random_state=0)\n",
    "df_2_1 = df2[df2['label'] == 1].sample(n=500, random_state=0)\n",
    "df2_train = df2[[i not in pd.concat([df_2_0, df_2_1]).index for i in df2.index]].reset_index(drop=True)\n",
    "df2_dev = pd.concat([df_2_0, df_2_1]).reset_index(drop=True)\n",
    "\n",
    "# Join data in both domains for trating them jointly (Augmentation)\n",
    "df3_train = pd.concat([df1_train, df2_train]).reset_index(drop=True)\n",
    "# df3_train, _ = RandomUnderSampler().fit_resample(df3_train, df3_train['label'])"
   ]
  },
  {
   "cell_type": "code",
   "execution_count": 39,
   "metadata": {},
   "outputs": [],
   "source": [
    "# Dev set\n",
    "dev_set = pd.concat([df1_dev, df2_dev]).reset_index(drop=True)\n",
    "\n",
    "# Transform numbers to strings to treat them as tokens\n",
    "txt1 = [re.sub(',', '',', '.join([str(x) for x in tok])) for tok in df1_train['text']]\n",
    "txt2 = [re.sub(',', '',', '.join([str(x) for x in tok])) for tok in df2_train['text']]\n",
    "aug_txt = [re.sub(',', '', ', '.join([str(x) for x in tok])) for tok in df3_train['text']]\n",
    "\n",
    "# Train sets\n",
    "x_tr1, y_tr1 = txt1, df1_train['label']\n",
    "x_tr2, y_tr2 = txt2, df2_train['label']\n",
    "# Train sets (Data Augmentation)\n",
    "x_tr_aug, y_train_aug = aug_txt, df3_train['label']\n",
    "# Dev set\n",
    "x_dev, y_dev = [re.sub(',', '',', '.join([str(x) for x in tok])) for tok in dev_set['text']], dev_set['label']"
   ]
  },
  {
   "cell_type": "code",
   "execution_count": 40,
   "metadata": {},
   "outputs": [
    {
     "data": {
      "text/plain": [
       "domain\n",
       "2    12000\n",
       "1     4000\n",
       "Name: count, dtype: int64"
      ]
     },
     "execution_count": 40,
     "metadata": {},
     "output_type": "execute_result"
    }
   ],
   "source": [
    "df3_train['domain'].value_counts()"
   ]
  },
  {
   "cell_type": "code",
   "execution_count": 41,
   "metadata": {},
   "outputs": [
    {
     "name": "stdout",
     "output_type": "stream",
     "text": [
      "label\n",
      "0    0.81\n",
      "1    0.19\n",
      "Name: count, dtype: float64\n"
     ]
    }
   ],
   "source": [
    "# Print classes proportion\n",
    "print(round(df3_train['label'].value_counts()/len(df3_train['label']),2))"
   ]
  },
  {
   "cell_type": "markdown",
   "metadata": {},
   "source": [
    "# 2. Encoding"
   ]
  },
  {
   "cell_type": "code",
   "execution_count": 42,
   "metadata": {},
   "outputs": [],
   "source": [
    "from sklearn.feature_extraction.text import CountVectorizer, TfidfVectorizer\n",
    "\n",
    "# Tokens encoding to sparce matrix (Countv)\n",
    "Cvec1 = CountVectorizer()\n",
    "Cvec2 = CountVectorizer()\n",
    "Cvec3 = CountVectorizer()\n",
    "\n",
    "# Vectorize training sets\n",
    "x_train1_c = Cvec1.fit_transform(x_tr1)\n",
    "x_train2_c = Cvec2.fit_transform(x_tr2)\n",
    "x_train_aug_c = Cvec3.fit_transform(x_tr_aug)\n",
    "\n",
    "# Vectorize development sets\n",
    "x_dev1_c = Cvec1.transform(x_dev)\n",
    "x_dev2_c = Cvec2.transform(x_dev)\n",
    "x_dev_aug_c = Cvec3.transform(x_dev)"
   ]
  },
  {
   "cell_type": "code",
   "execution_count": 47,
   "metadata": {},
   "outputs": [],
   "source": [
    "# Tokens encoding to sparce matrix (Tfid)\n",
    "Tvec1 = TfidfVectorizer()\n",
    "Tvec2 = TfidfVectorizer()\n",
    "Tvec3 = TfidfVectorizer(ngram_range=(1,5))\n",
    "\n",
    "# Vectorize training sets\n",
    "x_train1_t = Tvec1.fit_transform(x_tr1)\n",
    "x_train2_t = Tvec2.fit_transform(x_tr2)\n",
    "x_train_aug_t = Tvec3.fit_transform(x_tr_aug)\n",
    "\n",
    "# Vectorize development sets\n",
    "x_dev1_t = Tvec1.transform(x_dev)\n",
    "x_dev2_t = Tvec2.transform(x_dev)\n",
    "x_dev_aug_t = Tvec3.transform(x_dev)"
   ]
  },
  {
   "attachments": {},
   "cell_type": "markdown",
   "metadata": {},
   "source": [
    "# 3. Train Logistic Model"
   ]
  },
  {
   "cell_type": "code",
   "execution_count": 48,
   "metadata": {},
   "outputs": [],
   "source": [
    "from sklearn.linear_model import LogisticRegression\n",
    "from sklearn.metrics import f1_score\n",
    "import warnings\n",
    "warnings.filterwarnings('ignore')\n",
    "# \"default\"\n",
    "\n",
    "# Train models\n",
    "\n",
    "# Domain 1 models\n",
    "cl_1_c = LogisticRegression().fit(x_train1_c, y_tr1)\n",
    "cl_1_t = LogisticRegression().fit(x_train1_t, y_tr1)\n",
    "\n",
    "# Domain 2 models\n",
    "cl_2_c = LogisticRegression().fit(x_train2_t, y_tr2)\n",
    "cl_2_t = LogisticRegression().fit(x_train2_c, y_tr2)\n",
    "\n",
    "# augmented data (Both domains)\n",
    "cl_aug_c = LogisticRegression().fit(x_train_aug_c, y_train_aug)\n",
    "cl_aug_t = LogisticRegression().fit(x_train_aug_t, y_train_aug)\n",
    "cl_aug_c_w = LogisticRegression(class_weight=\"balanced\").fit(x_train_aug_c, y_train_aug)\n",
    "cl_aug_t_w = LogisticRegression(class_weight=\"balanced\").fit(x_train_aug_t, y_train_aug)"
   ]
  },
  {
   "cell_type": "code",
   "execution_count": 49,
   "metadata": {},
   "outputs": [
    {
     "name": "stdout",
     "output_type": "stream",
     "text": [
      "Model -MV using  Cvec:\t\t\t\t\tval_acc: 0.633\n",
      "Model -DA using  Cvec:\t\ttr_acc: 0.994\tval_acc: 0.674\ttr_F1\" 0.983\tts_F1\" 0.590\n",
      "Model -DA using  Cvec-w:\ttr_acc: 0.988\tval_acc: 0.697\ttr_F1\" 0.556\tts_F1\" 0.474\n",
      "\n",
      "Model -MV using  Tvec:\t\t\t\t\tvalid_acc: 0.500\n",
      "Model -DA using  Tvec:\t\ttr_acc: 0.882\tval_acc: 0.619\ttr_F1\" 0.968\tts_F1\" 0.653\n",
      "Model -DA using  Tvec-w:\ttr_acc: 0.921\tval_acc: 0.532\ttr_F1\" 0.825\tts_F1\" 0.515\n"
     ]
    }
   ],
   "source": [
    "# Majority voting scores\n",
    "def MV_pred(cl1, df1, cl2, df2):\n",
    "    return np.round((cl1.predict_proba(df1).T[1] + cl2.predict_proba(df2).T[1])/2)\n",
    "\n",
    "mv_pred_c_ts = MV_pred(cl_1_c, x_dev1_c, cl_2_c, x_dev2_c)\n",
    "mv_pred_t_ts = MV_pred(cl_1_t, x_dev1_t, cl_2_t, x_dev2_t)\n",
    "\n",
    "mv_sc_c_ts = sum([mv_pred_c_ts[i] == y_dev[i] for i, j in enumerate(y_dev)])/len(y_dev)\n",
    "mv_sc_t_ts = sum([mv_pred_t_ts[i] == y_dev[i] for i, j in enumerate(y_dev)])/len(y_dev)\n",
    "\n",
    "# Data augmentation scores\n",
    "sc_aug_c_tr, sc_aug_c_ts = cl_aug_c.score(x_train_aug_c, y_train_aug), cl_aug_c.score(x_dev_aug_c, y_dev)\n",
    "sc_aug_t_tr, sc_aug_t_ts = cl_aug_t.score(x_train_aug_t, y_train_aug), cl_aug_t.score(x_dev_aug_t, y_dev)\n",
    "sc_aug_c_w_tr, sc_aug_c_w_ts = cl_aug_c_w.score(x_train_aug_c, y_train_aug), cl_aug_c_w.score(x_dev_aug_c, y_dev)\n",
    "sc_aug_t_w_tr, sc_aug_t_w_ts = cl_aug_t_w.score(x_train_aug_t, y_train_aug), cl_aug_t_w.score(x_dev_aug_t, y_dev)\n",
    "# F1 scores\n",
    "f1_aug_c_tr, f1_aug_c_ts = f1_score(y_train_aug, cl_aug_c.predict(x_train_aug_c)), f1_score(y_dev, cl_aug_c.predict(x_dev_aug_c))\n",
    "f1_aug_t_tr, f1_aug_t_ts = f1_score(y_train_aug, cl_aug_t.predict(x_train_aug_t)), f1_score(y_dev, cl_aug_t.predict(x_dev_aug_t))\n",
    "f1_aug_c_w_tr, f1_aug_c_w_ts = f1_score(y_train_aug, cl_aug_c_w.predict(x_train_aug_c)), f1_score(y_dev, cl_aug_c_w.predict(x_dev_aug_c))\n",
    "f1_aug_t_w_tr, f1_aug_t_w_ts = f1_score(y_train_aug, cl_aug_t_w.predict(x_train_aug_t)), f1_score(y_dev, cl_aug_t_w.predict(x_dev_aug_t))\n",
    "\n",
    "# Print scores\n",
    "print(f'Model -MV using  Cvec:\\t\\t\\t\\t\\tval_acc: {mv_sc_c_ts:.3f}')\n",
    "print(f'Model -DA using  Cvec:\\t\\ttr_acc: {sc_aug_c_tr:.3f}\\tval_acc: {sc_aug_c_ts:.3f}\\ttr_F1\" {f1_aug_c_tr:.3f}\\tts_F1\" {f1_aug_c_ts:.3f}')\n",
    "print(f'Model -DA using  Cvec-w:\\ttr_acc: {sc_aug_c_w_tr:.3f}\\tval_acc: {sc_aug_c_w_ts:.3f}\\ttr_F1\" {f1_aug_t_tr:.3f}\\tts_F1\" {f1_aug_t_ts:.3f}')\n",
    "print()\n",
    "print(f'Model -MV using  Tvec:\\t\\t\\t\\t\\tvalid_acc: {mv_sc_t_ts:.3f}')\n",
    "print(f'Model -DA using  Tvec:\\t\\ttr_acc: {sc_aug_t_tr:.3f}\\tval_acc: {sc_aug_t_ts:.3f}\\ttr_F1\" {f1_aug_c_w_tr:.3f}\\tts_F1\" {f1_aug_c_w_ts:.3f}')\n",
    "print(f'Model -DA using  Tvec-w:\\ttr_acc: {sc_aug_t_w_tr:.3f}\\tval_acc: {sc_aug_t_w_ts:.3f}\\ttr_F1\" {f1_aug_t_w_tr:.3f}\\tts_F1\" {f1_aug_t_w_ts:.3f}')"
   ]
  },
  {
   "cell_type": "code",
   "execution_count": 50,
   "metadata": {},
   "outputs": [
    {
     "name": "stdout",
     "output_type": "stream",
     "text": [
      "              precision    recall  f1-score   support\n",
      "\n",
      "           0       0.58      0.89      0.70      1000\n",
      "           1       0.76      0.34      0.47      1000\n",
      "\n",
      "    accuracy                           0.62      2000\n",
      "   macro avg       0.67      0.62      0.59      2000\n",
      "weighted avg       0.67      0.62      0.59      2000\n",
      "\n"
     ]
    },
    {
     "data": {
      "image/png": "[encoded data removed]",
      "text/plain": [
       "<Figure size 640x480 with 2 Axes>"
      ]
     },
     "metadata": {},
     "output_type": "display_data"
    }
   ],
   "source": [
    "from sklearn.metrics import ConfusionMatrixDisplay, classification_report, confusion_matrix\n",
    "\n",
    "C = confusion_matrix(cl_aug_t.predict(x_dev_aug_t), y_dev)\n",
    "cm = ConfusionMatrixDisplay(confusion_matrix=C)\n",
    "cm.plot()\n",
    "print(classification_report(y_dev, cl_aug_t.predict(x_dev_aug_t)))"
   ]
  },
  {
   "attachments": {},
   "cell_type": "markdown",
   "metadata": {},
   "source": [
    "> The majority voting technique has worse performance than Data Augmentation in all the encoders applied. Thus, for the next steps this is the dataset to use."
   ]
  },
  {
   "attachments": {},
   "cell_type": "markdown",
   "metadata": {},
   "source": [
    "## sklearn.ensemble.RandomForestClassifier"
   ]
  },
  {
   "cell_type": "code",
   "execution_count": 106,
   "metadata": {},
   "outputs": [
    {
     "name": "stdout",
     "output_type": "stream",
     "text": [
      "0.7635\n"
     ]
    },
    {
     "data": {
      "text/plain": [
       "0.7373681288173237"
      ]
     },
     "execution_count": 106,
     "metadata": {},
     "output_type": "execute_result"
    }
   ],
   "source": [
    "from sklearn.ensemble import RandomForestClassifier\n",
    "\n",
    "clf = RandomForestClassifier(max_depth=100, random_state=0)\n",
    "clf.fit(x_train_aug_t, y_train_aug)\n",
    "\n",
    "\n",
    "print(clf.score(x_dev_aug_t, y_dev))\n",
    "f1_score(y_dev, clf.predict(x_dev_aug_t))"
   ]
  },
  {
   "cell_type": "code",
   "execution_count": 116,
   "metadata": {},
   "outputs": [
    {
     "name": "stdout",
     "output_type": "stream",
     "text": [
      "Fitting 3 folds for each of 36 candidates, totalling 108 fits\n",
      "[CV 1/3] END bootstrap=True, max_depth=10, min_samples_leaf=1, min_samples_split=2, n_estimators=200;, score=0.579 total time=   7.7s\n",
      "[CV 2/3] END bootstrap=True, max_depth=10, min_samples_leaf=1, min_samples_split=2, n_estimators=200;, score=0.671 total time=   8.5s\n",
      "[CV 3/3] END bootstrap=True, max_depth=10, min_samples_leaf=1, min_samples_split=2, n_estimators=200;, score=0.673 total time=   9.7s\n",
      "[CV 1/3] END bootstrap=True, max_depth=10, min_samples_leaf=1, min_samples_split=10, n_estimators=200;, score=0.564 total time=   7.0s\n",
      "[CV 2/3] END bootstrap=True, max_depth=10, min_samples_leaf=1, min_samples_split=10, n_estimators=200;, score=0.660 total time=   7.6s\n",
      "[CV 1/3] END bootstrap=True, max_depth=10, min_samples_leaf=1, min_samples_split=2, n_estimators=500;, score=0.580 total time=  18.0s\n",
      "[CV 2/3] END bootstrap=True, max_depth=10, min_samples_leaf=1, min_samples_split=2, n_estimators=500;, score=0.667 total time=  20.3s\n",
      "[CV 3/3] END bootstrap=True, max_depth=10, min_samples_leaf=1, min_samples_split=2, n_estimators=500;, score=0.685 total time=  23.8s\n",
      "[CV 3/3] END bootstrap=True, max_depth=10, min_samples_leaf=1, min_samples_split=10, n_estimators=200;, score=0.689 total time=   9.3s\n",
      "[CV 1/3] END bootstrap=True, max_depth=10, min_samples_leaf=1, min_samples_split=10, n_estimators=500;, score=0.586 total time=  17.4s\n",
      "[CV 1/3] END bootstrap=True, max_depth=10, min_samples_leaf=1, min_samples_split=2, n_estimators=1000;, score=0.571 total time=  36.3s\n",
      "[CV 2/3] END bootstrap=True, max_depth=10, min_samples_leaf=1, min_samples_split=10, n_estimators=500;, score=0.670 total time=  20.1s\n",
      "[CV 2/3] END bootstrap=True, max_depth=10, min_samples_leaf=1, min_samples_split=2, n_estimators=1000;, score=0.669 total time=  41.4s\n",
      "[CV 1/3] END bootstrap=True, max_depth=10, min_samples_leaf=4, min_samples_split=2, n_estimators=200;, score=0.599 total time=   6.6s\n",
      "[CV 3/3] END bootstrap=True, max_depth=10, min_samples_leaf=1, min_samples_split=10, n_estimators=500;, score=0.682 total time=  23.3s\n",
      "[CV 2/3] END bootstrap=True, max_depth=10, min_samples_leaf=4, min_samples_split=2, n_estimators=200;, score=0.656 total time=   7.6s\n",
      "[CV 3/3] END bootstrap=True, max_depth=10, min_samples_leaf=4, min_samples_split=2, n_estimators=200;, score=0.663 total time=   8.1s\n",
      "[CV 3/3] END bootstrap=True, max_depth=10, min_samples_leaf=1, min_samples_split=2, n_estimators=1000;, score=0.685 total time=  47.5s\n",
      "[CV 1/3] END bootstrap=True, max_depth=10, min_samples_leaf=1, min_samples_split=10, n_estimators=1000;, score=0.576 total time=  35.9s\n",
      "[CV 1/3] END bootstrap=True, max_depth=10, min_samples_leaf=4, min_samples_split=2, n_estimators=500;, score=0.578 total time=  17.0s\n",
      "[CV 2/3] END bootstrap=True, max_depth=10, min_samples_leaf=4, min_samples_split=2, n_estimators=500;, score=0.664 total time=  18.8s\n",
      "[CV 2/3] END bootstrap=True, max_depth=10, min_samples_leaf=1, min_samples_split=10, n_estimators=1000;, score=0.668 total time=  40.7s\n",
      "[CV 1/3] END bootstrap=True, max_depth=10, min_samples_leaf=4, min_samples_split=10, n_estimators=200;, score=0.572 total time=   6.6s\n",
      "[CV 3/3] END bootstrap=True, max_depth=10, min_samples_leaf=4, min_samples_split=2, n_estimators=500;, score=0.670 total time=  21.1s\n",
      "[CV 2/3] END bootstrap=True, max_depth=10, min_samples_leaf=4, min_samples_split=10, n_estimators=200;, score=0.654 total time=   7.5s\n",
      "[CV 3/3] END bootstrap=True, max_depth=10, min_samples_leaf=4, min_samples_split=10, n_estimators=200;, score=0.675 total time=   8.4s\n",
      "[CV 3/3] END bootstrap=True, max_depth=10, min_samples_leaf=1, min_samples_split=10, n_estimators=1000;, score=0.684 total time=  45.0s\n",
      "[CV 1/3] END bootstrap=True, max_depth=10, min_samples_leaf=4, min_samples_split=2, n_estimators=1000;, score=0.595 total time=  32.2s\n",
      "[CV 1/3] END bootstrap=True, max_depth=10, min_samples_leaf=4, min_samples_split=10, n_estimators=500;, score=0.576 total time=  15.9s\n",
      "[CV 2/3] END bootstrap=True, max_depth=10, min_samples_leaf=4, min_samples_split=10, n_estimators=500;, score=0.652 total time=  18.4s\n",
      "[CV 3/3] END bootstrap=True, max_depth=10, min_samples_leaf=4, min_samples_split=10, n_estimators=500;, score=0.678 total time=  21.0s\n",
      "[CV 2/3] END bootstrap=True, max_depth=10, min_samples_leaf=4, min_samples_split=2, n_estimators=1000;, score=0.663 total time=  37.4s\n",
      "[CV 3/3] END bootstrap=True, max_depth=10, min_samples_leaf=4, min_samples_split=2, n_estimators=1000;, score=0.678 total time=  42.4s\n",
      "[CV 1/3] END bootstrap=True, max_depth=10, min_samples_leaf=4, min_samples_split=10, n_estimators=1000;, score=0.592 total time=  32.5s\n",
      "[CV 2/3] END bootstrap=True, max_depth=10, min_samples_leaf=4, min_samples_split=10, n_estimators=1000;, score=0.663 total time=  36.7s\n",
      "[CV 3/3] END bootstrap=True, max_depth=10, min_samples_leaf=4, min_samples_split=10, n_estimators=1000;, score=0.678 total time=  43.2s\n",
      "[CV 1/3] END bootstrap=True, max_depth=50, min_samples_leaf=1, min_samples_split=2, n_estimators=200;, score=0.585 total time=  43.1s\n",
      "[CV 2/3] END bootstrap=True, max_depth=50, min_samples_leaf=1, min_samples_split=2, n_estimators=200;, score=0.778 total time=  48.4s\n",
      "[CV 3/3] END bootstrap=True, max_depth=50, min_samples_leaf=1, min_samples_split=2, n_estimators=200;, score=0.752 total time=  54.7s\n",
      "[CV 1/3] END bootstrap=True, max_depth=50, min_samples_leaf=1, min_samples_split=10, n_estimators=200;, score=0.592 total time=  38.1s\n",
      "[CV 2/3] END bootstrap=True, max_depth=50, min_samples_leaf=1, min_samples_split=10, n_estimators=200;, score=0.769 total time=  43.1s\n",
      "[CV 1/3] END bootstrap=True, max_depth=50, min_samples_leaf=1, min_samples_split=2, n_estimators=500;, score=0.589 total time= 1.9min\n",
      "[CV 3/3] END bootstrap=True, max_depth=50, min_samples_leaf=1, min_samples_split=10, n_estimators=200;, score=0.748 total time=  50.3s\n",
      "[CV 2/3] END bootstrap=True, max_depth=50, min_samples_leaf=1, min_samples_split=2, n_estimators=500;, score=0.775 total time= 2.0min\n",
      "[CV 3/3] END bootstrap=True, max_depth=50, min_samples_leaf=1, min_samples_split=2, n_estimators=500;, score=0.764 total time= 2.3min\n",
      "[CV 1/3] END bootstrap=True, max_depth=50, min_samples_leaf=1, min_samples_split=10, n_estimators=500;, score=0.598 total time= 1.6min\n",
      "[CV 2/3] END bootstrap=True, max_depth=50, min_samples_leaf=1, min_samples_split=10, n_estimators=500;, score=0.783 total time= 1.8min\n",
      "[CV 1/3] END bootstrap=True, max_depth=50, min_samples_leaf=4, min_samples_split=2, n_estimators=200;, score=0.592 total time=  23.6s\n",
      "[CV 1/3] END bootstrap=True, max_depth=50, min_samples_leaf=1, min_samples_split=2, n_estimators=1000;, score=0.600 total time= 3.7min\n",
      "[CV 3/3] END bootstrap=True, max_depth=50, min_samples_leaf=1, min_samples_split=10, n_estimators=500;, score=0.752 total time= 2.0min\n",
      "[CV 2/3] END bootstrap=True, max_depth=50, min_samples_leaf=4, min_samples_split=2, n_estimators=200;, score=0.750 total time=  27.4s\n"
     ]
    },
    {
     "ename": "KeyboardInterrupt",
     "evalue": "",
     "output_type": "error",
     "traceback": [
      "\u001b[0;31m---------------------------------------------------------------------------\u001b[0m",
      "\u001b[0;31mKeyboardInterrupt\u001b[0m                         Traceback (most recent call last)",
      "Cell \u001b[0;32mIn[116], line 14\u001b[0m\n\u001b[1;32m     12\u001b[0m rf_random \u001b[39m=\u001b[39m RandomizedSearchCV(estimator \u001b[39m=\u001b[39m rf, param_distributions \u001b[39m=\u001b[39m random_grid, n_iter \u001b[39m=\u001b[39m \u001b[39m100\u001b[39m, cv \u001b[39m=\u001b[39m \u001b[39m3\u001b[39m, verbose\u001b[39m=\u001b[39m\u001b[39m3\u001b[39m, random_state\u001b[39m=\u001b[39m\u001b[39m42\u001b[39m, n_jobs \u001b[39m=\u001b[39m \u001b[39m-\u001b[39m\u001b[39m1\u001b[39m)\n\u001b[1;32m     13\u001b[0m \u001b[39m# Fit the random search model\u001b[39;00m\n\u001b[0;32m---> 14\u001b[0m rf_random\u001b[39m.\u001b[39;49mfit(x_train_aug_t, y_train_aug)\n",
      "File \u001b[0;32m~/Documents/Semester_3/Statistical Machine Learning/Assignment1/COMP90051-2024S1-Project-1/venv/lib/python3.9/site-packages/sklearn/base.py:1474\u001b[0m, in \u001b[0;36m_fit_context.<locals>.decorator.<locals>.wrapper\u001b[0;34m(estimator, *args, **kwargs)\u001b[0m\n\u001b[1;32m   1467\u001b[0m     estimator\u001b[39m.\u001b[39m_validate_params()\n\u001b[1;32m   1469\u001b[0m \u001b[39mwith\u001b[39;00m config_context(\n\u001b[1;32m   1470\u001b[0m     skip_parameter_validation\u001b[39m=\u001b[39m(\n\u001b[1;32m   1471\u001b[0m         prefer_skip_nested_validation \u001b[39mor\u001b[39;00m global_skip_validation\n\u001b[1;32m   1472\u001b[0m     )\n\u001b[1;32m   1473\u001b[0m ):\n\u001b[0;32m-> 1474\u001b[0m     \u001b[39mreturn\u001b[39;00m fit_method(estimator, \u001b[39m*\u001b[39;49margs, \u001b[39m*\u001b[39;49m\u001b[39m*\u001b[39;49mkwargs)\n",
      "File \u001b[0;32m~/Documents/Semester_3/Statistical Machine Learning/Assignment1/COMP90051-2024S1-Project-1/venv/lib/python3.9/site-packages/sklearn/model_selection/_search.py:970\u001b[0m, in \u001b[0;36mBaseSearchCV.fit\u001b[0;34m(self, X, y, **params)\u001b[0m\n\u001b[1;32m    964\u001b[0m     results \u001b[39m=\u001b[39m \u001b[39mself\u001b[39m\u001b[39m.\u001b[39m_format_results(\n\u001b[1;32m    965\u001b[0m         all_candidate_params, n_splits, all_out, all_more_results\n\u001b[1;32m    966\u001b[0m     )\n\u001b[1;32m    968\u001b[0m     \u001b[39mreturn\u001b[39;00m results\n\u001b[0;32m--> 970\u001b[0m \u001b[39mself\u001b[39;49m\u001b[39m.\u001b[39;49m_run_search(evaluate_candidates)\n\u001b[1;32m    972\u001b[0m \u001b[39m# multimetric is determined here because in the case of a callable\u001b[39;00m\n\u001b[1;32m    973\u001b[0m \u001b[39m# self.scoring the return type is only known after calling\u001b[39;00m\n\u001b[1;32m    974\u001b[0m first_test_score \u001b[39m=\u001b[39m all_out[\u001b[39m0\u001b[39m][\u001b[39m\"\u001b[39m\u001b[39mtest_scores\u001b[39m\u001b[39m\"\u001b[39m]\n",
      "File \u001b[0;32m~/Documents/Semester_3/Statistical Machine Learning/Assignment1/COMP90051-2024S1-Project-1/venv/lib/python3.9/site-packages/sklearn/model_selection/_search.py:1914\u001b[0m, in \u001b[0;36mRandomizedSearchCV._run_search\u001b[0;34m(self, evaluate_candidates)\u001b[0m\n\u001b[1;32m   1912\u001b[0m \u001b[39mdef\u001b[39;00m \u001b[39m_run_search\u001b[39m(\u001b[39mself\u001b[39m, evaluate_candidates):\n\u001b[1;32m   1913\u001b[0m \u001b[39m    \u001b[39m\u001b[39m\"\"\"Search n_iter candidates from param_distributions\"\"\"\u001b[39;00m\n\u001b[0;32m-> 1914\u001b[0m     evaluate_candidates(\n\u001b[1;32m   1915\u001b[0m         ParameterSampler(\n\u001b[1;32m   1916\u001b[0m             \u001b[39mself\u001b[39;49m\u001b[39m.\u001b[39;49mparam_distributions, \u001b[39mself\u001b[39;49m\u001b[39m.\u001b[39;49mn_iter, random_state\u001b[39m=\u001b[39;49m\u001b[39mself\u001b[39;49m\u001b[39m.\u001b[39;49mrandom_state\n\u001b[1;32m   1917\u001b[0m         )\n\u001b[1;32m   1918\u001b[0m     )\n",
      "File \u001b[0;32m~/Documents/Semester_3/Statistical Machine Learning/Assignment1/COMP90051-2024S1-Project-1/venv/lib/python3.9/site-packages/sklearn/model_selection/_search.py:916\u001b[0m, in \u001b[0;36mBaseSearchCV.fit.<locals>.evaluate_candidates\u001b[0;34m(candidate_params, cv, more_results)\u001b[0m\n\u001b[1;32m    908\u001b[0m \u001b[39mif\u001b[39;00m \u001b[39mself\u001b[39m\u001b[39m.\u001b[39mverbose \u001b[39m>\u001b[39m \u001b[39m0\u001b[39m:\n\u001b[1;32m    909\u001b[0m     \u001b[39mprint\u001b[39m(\n\u001b[1;32m    910\u001b[0m         \u001b[39m\"\u001b[39m\u001b[39mFitting \u001b[39m\u001b[39m{0}\u001b[39;00m\u001b[39m folds for each of \u001b[39m\u001b[39m{1}\u001b[39;00m\u001b[39m candidates,\u001b[39m\u001b[39m\"\u001b[39m\n\u001b[1;32m    911\u001b[0m         \u001b[39m\"\u001b[39m\u001b[39m totalling \u001b[39m\u001b[39m{2}\u001b[39;00m\u001b[39m fits\u001b[39m\u001b[39m\"\u001b[39m\u001b[39m.\u001b[39mformat(\n\u001b[1;32m    912\u001b[0m             n_splits, n_candidates, n_candidates \u001b[39m*\u001b[39m n_splits\n\u001b[1;32m    913\u001b[0m         )\n\u001b[1;32m    914\u001b[0m     )\n\u001b[0;32m--> 916\u001b[0m out \u001b[39m=\u001b[39m parallel(\n\u001b[1;32m    917\u001b[0m     delayed(_fit_and_score)(\n\u001b[1;32m    918\u001b[0m         clone(base_estimator),\n\u001b[1;32m    919\u001b[0m         X,\n\u001b[1;32m    920\u001b[0m         y,\n\u001b[1;32m    921\u001b[0m         train\u001b[39m=\u001b[39;49mtrain,\n\u001b[1;32m    922\u001b[0m         test\u001b[39m=\u001b[39;49mtest,\n\u001b[1;32m    923\u001b[0m         parameters\u001b[39m=\u001b[39;49mparameters,\n\u001b[1;32m    924\u001b[0m         split_progress\u001b[39m=\u001b[39;49m(split_idx, n_splits),\n\u001b[1;32m    925\u001b[0m         candidate_progress\u001b[39m=\u001b[39;49m(cand_idx, n_candidates),\n\u001b[1;32m    926\u001b[0m         \u001b[39m*\u001b[39;49m\u001b[39m*\u001b[39;49mfit_and_score_kwargs,\n\u001b[1;32m    927\u001b[0m     )\n\u001b[1;32m    928\u001b[0m     \u001b[39mfor\u001b[39;49;00m (cand_idx, parameters), (split_idx, (train, test)) \u001b[39min\u001b[39;49;00m product(\n\u001b[1;32m    929\u001b[0m         \u001b[39menumerate\u001b[39;49m(candidate_params),\n\u001b[1;32m    930\u001b[0m         \u001b[39menumerate\u001b[39;49m(cv\u001b[39m.\u001b[39;49msplit(X, y, \u001b[39m*\u001b[39;49m\u001b[39m*\u001b[39;49mrouted_params\u001b[39m.\u001b[39;49msplitter\u001b[39m.\u001b[39;49msplit)),\n\u001b[1;32m    931\u001b[0m     )\n\u001b[1;32m    932\u001b[0m )\n\u001b[1;32m    934\u001b[0m \u001b[39mif\u001b[39;00m \u001b[39mlen\u001b[39m(out) \u001b[39m<\u001b[39m \u001b[39m1\u001b[39m:\n\u001b[1;32m    935\u001b[0m     \u001b[39mraise\u001b[39;00m \u001b[39mValueError\u001b[39;00m(\n\u001b[1;32m    936\u001b[0m         \u001b[39m\"\u001b[39m\u001b[39mNo fits were performed. \u001b[39m\u001b[39m\"\u001b[39m\n\u001b[1;32m    937\u001b[0m         \u001b[39m\"\u001b[39m\u001b[39mWas the CV iterator empty? \u001b[39m\u001b[39m\"\u001b[39m\n\u001b[1;32m    938\u001b[0m         \u001b[39m\"\u001b[39m\u001b[39mWere there no candidates?\u001b[39m\u001b[39m\"\u001b[39m\n\u001b[1;32m    939\u001b[0m     )\n",
      "File \u001b[0;32m~/Documents/Semester_3/Statistical Machine Learning/Assignment1/COMP90051-2024S1-Project-1/venv/lib/python3.9/site-packages/sklearn/utils/parallel.py:67\u001b[0m, in \u001b[0;36mParallel.__call__\u001b[0;34m(self, iterable)\u001b[0m\n\u001b[1;32m     62\u001b[0m config \u001b[39m=\u001b[39m get_config()\n\u001b[1;32m     63\u001b[0m iterable_with_config \u001b[39m=\u001b[39m (\n\u001b[1;32m     64\u001b[0m     (_with_config(delayed_func, config), args, kwargs)\n\u001b[1;32m     65\u001b[0m     \u001b[39mfor\u001b[39;00m delayed_func, args, kwargs \u001b[39min\u001b[39;00m iterable\n\u001b[1;32m     66\u001b[0m )\n\u001b[0;32m---> 67\u001b[0m \u001b[39mreturn\u001b[39;00m \u001b[39msuper\u001b[39;49m()\u001b[39m.\u001b[39;49m\u001b[39m__call__\u001b[39;49m(iterable_with_config)\n",
      "File \u001b[0;32m~/Documents/Semester_3/Statistical Machine Learning/Assignment1/COMP90051-2024S1-Project-1/venv/lib/python3.9/site-packages/joblib/parallel.py:2007\u001b[0m, in \u001b[0;36mParallel.__call__\u001b[0;34m(self, iterable)\u001b[0m\n\u001b[1;32m   2001\u001b[0m \u001b[39m# The first item from the output is blank, but it makes the interpreter\u001b[39;00m\n\u001b[1;32m   2002\u001b[0m \u001b[39m# progress until it enters the Try/Except block of the generator and\u001b[39;00m\n\u001b[1;32m   2003\u001b[0m \u001b[39m# reach the first `yield` statement. This starts the aynchronous\u001b[39;00m\n\u001b[1;32m   2004\u001b[0m \u001b[39m# dispatch of the tasks to the workers.\u001b[39;00m\n\u001b[1;32m   2005\u001b[0m \u001b[39mnext\u001b[39m(output)\n\u001b[0;32m-> 2007\u001b[0m \u001b[39mreturn\u001b[39;00m output \u001b[39mif\u001b[39;00m \u001b[39mself\u001b[39m\u001b[39m.\u001b[39mreturn_generator \u001b[39melse\u001b[39;00m \u001b[39mlist\u001b[39;49m(output)\n",
      "File \u001b[0;32m~/Documents/Semester_3/Statistical Machine Learning/Assignment1/COMP90051-2024S1-Project-1/venv/lib/python3.9/site-packages/joblib/parallel.py:1650\u001b[0m, in \u001b[0;36mParallel._get_outputs\u001b[0;34m(self, iterator, pre_dispatch)\u001b[0m\n\u001b[1;32m   1647\u001b[0m     \u001b[39myield\u001b[39;00m\n\u001b[1;32m   1649\u001b[0m     \u001b[39mwith\u001b[39;00m \u001b[39mself\u001b[39m\u001b[39m.\u001b[39m_backend\u001b[39m.\u001b[39mretrieval_context():\n\u001b[0;32m-> 1650\u001b[0m         \u001b[39myield from\u001b[39;00m \u001b[39mself\u001b[39m\u001b[39m.\u001b[39m_retrieve()\n\u001b[1;32m   1652\u001b[0m \u001b[39mexcept\u001b[39;00m \u001b[39mGeneratorExit\u001b[39;00m:\n\u001b[1;32m   1653\u001b[0m     \u001b[39m# The generator has been garbage collected before being fully\u001b[39;00m\n\u001b[1;32m   1654\u001b[0m     \u001b[39m# consumed. This aborts the remaining tasks if possible and warn\u001b[39;00m\n\u001b[1;32m   1655\u001b[0m     \u001b[39m# the user if necessary.\u001b[39;00m\n\u001b[1;32m   1656\u001b[0m     \u001b[39mself\u001b[39m\u001b[39m.\u001b[39m_exception \u001b[39m=\u001b[39m \u001b[39mTrue\u001b[39;00m\n",
      "File \u001b[0;32m~/Documents/Semester_3/Statistical Machine Learning/Assignment1/COMP90051-2024S1-Project-1/venv/lib/python3.9/site-packages/joblib/parallel.py:1762\u001b[0m, in \u001b[0;36mParallel._retrieve\u001b[0;34m(self)\u001b[0m\n\u001b[1;32m   1757\u001b[0m \u001b[39m# If the next job is not ready for retrieval yet, we just wait for\u001b[39;00m\n\u001b[1;32m   1758\u001b[0m \u001b[39m# async callbacks to progress.\u001b[39;00m\n\u001b[1;32m   1759\u001b[0m \u001b[39mif\u001b[39;00m ((\u001b[39mlen\u001b[39m(\u001b[39mself\u001b[39m\u001b[39m.\u001b[39m_jobs) \u001b[39m==\u001b[39m \u001b[39m0\u001b[39m) \u001b[39mor\u001b[39;00m\n\u001b[1;32m   1760\u001b[0m     (\u001b[39mself\u001b[39m\u001b[39m.\u001b[39m_jobs[\u001b[39m0\u001b[39m]\u001b[39m.\u001b[39mget_status(\n\u001b[1;32m   1761\u001b[0m         timeout\u001b[39m=\u001b[39m\u001b[39mself\u001b[39m\u001b[39m.\u001b[39mtimeout) \u001b[39m==\u001b[39m TASK_PENDING)):\n\u001b[0;32m-> 1762\u001b[0m     time\u001b[39m.\u001b[39;49msleep(\u001b[39m0.01\u001b[39;49m)\n\u001b[1;32m   1763\u001b[0m     \u001b[39mcontinue\u001b[39;00m\n\u001b[1;32m   1765\u001b[0m \u001b[39m# We need to be careful: the job list can be filling up as\u001b[39;00m\n\u001b[1;32m   1766\u001b[0m \u001b[39m# we empty it and Python list are not thread-safe by\u001b[39;00m\n\u001b[1;32m   1767\u001b[0m \u001b[39m# default hence the use of the lock\u001b[39;00m\n",
      "\u001b[0;31mKeyboardInterrupt\u001b[0m: "
     ]
    }
   ],
   "source": [
    "from sklearn.model_selection import RandomizedSearchCV\n",
    "# Create the random grid\n",
    "random_grid = {'bootstrap': [True],\n",
    "        'max_depth': [10, 50, 100],\n",
    "        'min_samples_leaf': [1, 4],\n",
    "        'min_samples_split': [2, 10],\n",
    "        'n_estimators': [200, 500, 1000]}\n",
    "\n",
    "\n",
    "rf = RandomForestClassifier()\n",
    "# search across 100 different combinations, and use all available cores\n",
    "rf_random = RandomizedSearchCV(estimator = rf, param_distributions = random_grid, n_iter = 100, cv = 3, verbose=3, random_state=42, n_jobs = -1)\n",
    "# Fit the random search model\n",
    "rf_random.fit(x_train_aug_t, y_train_aug)"
   ]
  },
  {
   "cell_type": "code",
   "execution_count": 117,
   "metadata": {},
   "outputs": [
    {
     "ename": "NotFittedError",
     "evalue": "This RandomizedSearchCV instance is not fitted yet. Call 'fit' with appropriate arguments before using this estimator.",
     "output_type": "error",
     "traceback": [
      "\u001b[0;31m---------------------------------------------------------------------------\u001b[0m",
      "\u001b[0;31mNotFittedError\u001b[0m                            Traceback (most recent call last)",
      "Cell \u001b[0;32mIn[117], line 2\u001b[0m\n\u001b[1;32m      1\u001b[0m \u001b[39mfrom\u001b[39;00m \u001b[39msklearn\u001b[39;00m\u001b[39m.\u001b[39;00m\u001b[39mmetrics\u001b[39;00m \u001b[39mimport\u001b[39;00m classification_report \n\u001b[0;32m----> 2\u001b[0m grid_predictions \u001b[39m=\u001b[39m rf_random\u001b[39m.\u001b[39;49mpredict(x_dev_aug_t) \n\u001b[1;32m      4\u001b[0m \u001b[39m# print classification report \u001b[39;00m\n\u001b[1;32m      5\u001b[0m \u001b[39mprint\u001b[39m(classification_report(y_dev, grid_predictions)) \n",
      "File \u001b[0;32m~/Documents/Semester_3/Statistical Machine Learning/Assignment1/COMP90051-2024S1-Project-1/venv/lib/python3.9/site-packages/sklearn/model_selection/_search.py:545\u001b[0m, in \u001b[0;36mBaseSearchCV.predict\u001b[0;34m(self, X)\u001b[0m\n\u001b[1;32m    526\u001b[0m \u001b[39m@available_if\u001b[39m(_estimator_has(\u001b[39m\"\u001b[39m\u001b[39mpredict\u001b[39m\u001b[39m\"\u001b[39m))\n\u001b[1;32m    527\u001b[0m \u001b[39mdef\u001b[39;00m \u001b[39mpredict\u001b[39m(\u001b[39mself\u001b[39m, X):\n\u001b[1;32m    528\u001b[0m \u001b[39m    \u001b[39m\u001b[39m\"\"\"Call predict on the estimator with the best found parameters.\u001b[39;00m\n\u001b[1;32m    529\u001b[0m \n\u001b[1;32m    530\u001b[0m \u001b[39m    Only available if ``refit=True`` and the underlying estimator supports\u001b[39;00m\n\u001b[0;32m   (...)\u001b[0m\n\u001b[1;32m    543\u001b[0m \u001b[39m        the best found parameters.\u001b[39;00m\n\u001b[1;32m    544\u001b[0m \u001b[39m    \"\"\"\u001b[39;00m\n\u001b[0;32m--> 545\u001b[0m     check_is_fitted(\u001b[39mself\u001b[39;49m)\n\u001b[1;32m    546\u001b[0m     \u001b[39mreturn\u001b[39;00m \u001b[39mself\u001b[39m\u001b[39m.\u001b[39mbest_estimator_\u001b[39m.\u001b[39mpredict(X)\n",
      "File \u001b[0;32m~/Documents/Semester_3/Statistical Machine Learning/Assignment1/COMP90051-2024S1-Project-1/venv/lib/python3.9/site-packages/sklearn/utils/validation.py:1622\u001b[0m, in \u001b[0;36mcheck_is_fitted\u001b[0;34m(estimator, attributes, msg, all_or_any)\u001b[0m\n\u001b[1;32m   1619\u001b[0m     \u001b[39mraise\u001b[39;00m \u001b[39mTypeError\u001b[39;00m(\u001b[39m\"\u001b[39m\u001b[39m%s\u001b[39;00m\u001b[39m is not an estimator instance.\u001b[39m\u001b[39m\"\u001b[39m \u001b[39m%\u001b[39m (estimator))\n\u001b[1;32m   1621\u001b[0m \u001b[39mif\u001b[39;00m \u001b[39mnot\u001b[39;00m _is_fitted(estimator, attributes, all_or_any):\n\u001b[0;32m-> 1622\u001b[0m     \u001b[39mraise\u001b[39;00m NotFittedError(msg \u001b[39m%\u001b[39m {\u001b[39m\"\u001b[39m\u001b[39mname\u001b[39m\u001b[39m\"\u001b[39m: \u001b[39mtype\u001b[39m(estimator)\u001b[39m.\u001b[39m\u001b[39m__name__\u001b[39m})\n",
      "\u001b[0;31mNotFittedError\u001b[0m: This RandomizedSearchCV instance is not fitted yet. Call 'fit' with appropriate arguments before using this estimator."
     ]
    }
   ],
   "source": [
    "from sklearn.metrics import classification_report \n",
    "grid_predictions = rf_random.predict(x_dev_aug_t) \n",
    "  \n",
    "# print classification report \n",
    "print(classification_report(y_dev, grid_predictions)) "
   ]
  },
  {
   "attachments": {},
   "cell_type": "markdown",
   "metadata": {},
   "source": [
    "# Predict on sample data"
   ]
  },
  {
   "cell_type": "code",
   "execution_count": 23,
   "metadata": {},
   "outputs": [],
   "source": [
    "# Predict on sample data\n",
    "# Read data\n",
    "test = [re.sub(',', '',', '.join([str(x) for x in tok])) for tok in pd.read_json('../Data/test_data.json', lines=True)['text']]\n",
    "# Encoding\n",
    "x_test = Tvec3.transform(test)\n",
    "# Predict\n",
    "x_pred = cl_aug_t_w.predict(x_test)\n",
    "# Create DF\n",
    "df = pd.DataFrame([[i,j] for i,j in enumerate(x_pred)], columns=['id', 'class'])\n",
    "# Save file\n",
    "df.to_csv('../Data/predictions.csv', index=False)"
   ]
  },
  {
   "attachments": {},
   "cell_type": "markdown",
   "metadata": {},
   "source": [
    "# 3. Train SVM model"
   ]
  },
  {
   "cell_type": "markdown",
   "metadata": {},
   "source": []
  }
 ],
 "metadata": {
  "kernelspec": {
   "display_name": "venv",
   "language": "python",
   "name": "python3"
  },
  "language_info": {
   "codemirror_mode": {
    "name": "ipython",
    "version": 3
   },
   "file_extension": ".py",
   "mimetype": "text/x-python",
   "name": "python",
   "nbconvert_exporter": "python",
   "pygments_lexer": "ipython3",
   "version": "3.9.6"
  },
  "orig_nbformat": 4
 },
 "nbformat": 4,
 "nbformat_minor": 2
}
