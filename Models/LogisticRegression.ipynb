{
 "cells": [
  {
   "cell_type": "markdown",
   "metadata": {},
   "source": [
    "# 1. Data preprocessing"
   ]
  },
  {
   "cell_type": "code",
   "execution_count": 1,
   "metadata": {},
   "outputs": [],
   "source": [
    "from sklearn.model_selection import train_test_split\n",
    "import numpy as np\n",
    "import pandas as pd\n",
    "import re"
   ]
  },
  {
   "cell_type": "code",
   "execution_count": 5,
   "metadata": {},
   "outputs": [],
   "source": [
    "# Read data\n",
    "df1 = pd.read_json('../Data/domain1_train_data.json', lines=True)\n",
    "df2 = pd.read_json('../Data/domain2_train_data.json', lines=True)\n",
    "\n",
    "# Train dev split\n",
    "df1_train, df1_dev = train_test_split(df1, stratify=df1['label'], random_state=42)\n",
    "df2_train, df2_dev = train_test_split(df2, stratify=df2['label'], random_state=42)\n",
    "dev_set = pd.concat([df1_dev, df2_dev]).reset_index(drop=True)\n",
    "\n",
    "# Join data in both domains for trating them jointly (Augmentation)\n",
    "df3_train = pd.concat([df1_train, df2_train]).reset_index(drop=True)\n",
    "\n",
    "# Transform numbers to strings to treat them as tokens\n",
    "txt1 = [re.sub(',', '',', '.join([str(x) for x in tok])) for tok in df1_train['text']]\n",
    "txt2 = [re.sub(',', '',', '.join([str(x) for x in tok])) for tok in df2_train['text']]\n",
    "aug_txt = [re.sub(',', '', ', '.join([str(x) for x in tok])) for tok in df3_train['text']]\n",
    "\n",
    "# Train sets\n",
    "x_tr1, y_tr1 = txt1, df1_train['label']\n",
    "x_tr2, y_tr2 = txt2, df2_train['label']\n",
    "# Train sets (Data Augmentation)\n",
    "x_tr_aug, y_train_aug = aug_txt, df3_train['label']\n",
    "# Dev set\n",
    "x_dev, y_dev = [re.sub(',', '',', '.join([str(x) for x in tok])) for tok in dev_set['text']], dev_set['label']"
   ]
  },
  {
   "cell_type": "code",
   "execution_count": 6,
   "metadata": {},
   "outputs": [
    {
     "name": "stdout",
     "output_type": "stream",
     "text": [
      "label\n",
      "0    0.78\n",
      "1    0.22\n",
      "Name: count, dtype: float64\n"
     ]
    }
   ],
   "source": [
    "# Print classes proportion\n",
    "print(round(df3_train['label'].value_counts()/len(df3_train['label']),2))"
   ]
  },
  {
   "cell_type": "markdown",
   "metadata": {},
   "source": [
    "# 2. Encoding"
   ]
  },
  {
   "cell_type": "code",
   "execution_count": 7,
   "metadata": {},
   "outputs": [],
   "source": [
    "from sklearn.feature_extraction.text import CountVectorizer, TfidfVectorizer\n",
    "\n",
    "# Tokens encoding to sparce matrix (Countv)\n",
    "Cvec1 = CountVectorizer()\n",
    "Cvec2 = CountVectorizer()\n",
    "Cvec3 = CountVectorizer()\n",
    "\n",
    "# Vectorize training sets\n",
    "x_train1_c = Cvec1.fit_transform(x_tr1)\n",
    "x_train2_c = Cvec2.fit_transform(x_tr2)\n",
    "x_train_aug_c = Cvec3.fit_transform(x_tr_aug)\n",
    "\n",
    "# Vectorize development sets\n",
    "x_dev1_c = Cvec1.transform(x_dev)\n",
    "x_dev2_c = Cvec2.transform(x_dev)\n",
    "x_dev_aug_c = Cvec3.transform(x_dev)"
   ]
  },
  {
   "cell_type": "code",
   "execution_count": 8,
   "metadata": {},
   "outputs": [],
   "source": [
    "# Tokens encoding to sparce matrix (Tfid)\n",
    "Tvec1 = TfidfVectorizer()\n",
    "Tvec2 = TfidfVectorizer()\n",
    "Tvec3 = TfidfVectorizer(sublinear_tf=True, use_idf=True,norm=None)\n",
    "\n",
    "# Vectorize training sets\n",
    "x_train1_t = Tvec1.fit_transform(x_tr1)\n",
    "x_train2_t = Tvec2.fit_transform(x_tr2)\n",
    "x_train_aug_t = Tvec3.fit_transform(x_tr_aug)\n",
    "\n",
    "# Vectorize development sets\n",
    "x_dev1_t = Tvec1.transform(x_dev)\n",
    "x_dev2_t = Tvec2.transform(x_dev)\n",
    "x_dev_aug_t = Tvec3.transform(x_dev)"
   ]
  },
  {
   "attachments": {},
   "cell_type": "markdown",
   "metadata": {},
   "source": [
    "# 3. Train Logistic Model"
   ]
  },
  {
   "cell_type": "code",
   "execution_count": 9,
   "metadata": {},
   "outputs": [],
   "source": [
    "from sklearn.linear_model import LogisticRegression\n",
    "from sklearn.metrics import f1_score\n",
    "import warnings\n",
    "warnings.filterwarnings('ignore')\n",
    "# \"default\"\n",
    "\n",
    "# Train models\n",
    "\n",
    "# Domain 1 models\n",
    "cl_1_c = LogisticRegression().fit(x_train1_c, y_tr1)\n",
    "cl_1_t = LogisticRegression().fit(x_train1_t, y_tr1)\n",
    "\n",
    "# Domain 2 models\n",
    "cl_2_c = LogisticRegression().fit(x_train2_t, y_tr2)\n",
    "cl_2_t = LogisticRegression().fit(x_train2_c, y_tr2)\n",
    "\n",
    "# augmented data (Both domains)\n",
    "cl_aug_c = LogisticRegression().fit(x_train_aug_c, y_train_aug)\n",
    "cl_aug_t = LogisticRegression().fit(x_train_aug_t, y_train_aug)\n",
    "cl_aug_c_w = LogisticRegression(class_weight=\"balanced\").fit(x_train_aug_c, y_train_aug)\n",
    "cl_aug_t_w = LogisticRegression(class_weight=\"balanced\").fit(x_train_aug_t, y_train_aug)"
   ]
  },
  {
   "cell_type": "code",
   "execution_count": 10,
   "metadata": {},
   "outputs": [
    {
     "name": "stdout",
     "output_type": "stream",
     "text": [
      "Model -MV using  Cvec:\t\t\t\t\tval_acc: 0.651\n",
      "Model -DA using  Cvec:\t\ttr_acc: 0.993\tval_acc: 0.846\ttr_F1\" 0.983\tts_F1\" 0.606\n",
      "Model -DA using  Cvec-w:\ttr_acc: 0.991\tval_acc: 0.849\ttr_F1\" 1.000\tts_F1\" 0.628\n",
      "\n",
      "Model -MV using  Tvec:\t\t\t\t\tvalid_acc: 0.778\n",
      "Model -DA using  Tvec:\t\ttr_acc: 1.000\tval_acc: 0.855\ttr_F1\" 0.980\tts_F1\" 0.655\n",
      "Model -DA using  Tvec-w:\ttr_acc: 1.000\tval_acc: 0.857\ttr_F1\" 1.000\tts_F1\" 0.648\n"
     ]
    }
   ],
   "source": [
    "# Majority voting scores\n",
    "def MV_pred(cl1, df1, cl2, df2):\n",
    "    return np.round((cl1.predict_proba(df1).T[1] + cl2.predict_proba(df2).T[1])/2)\n",
    "\n",
    "mv_pred_c_ts = MV_pred(cl_1_c, x_dev1_c, cl_2_c, x_dev2_c)\n",
    "mv_pred_t_ts = MV_pred(cl_1_t, x_dev1_t, cl_2_t, x_dev2_t)\n",
    "\n",
    "mv_sc_c_ts = sum([mv_pred_c_ts[i] == y_dev[i] for i, j in enumerate(y_dev)])/len(y_dev)\n",
    "mv_sc_t_ts = sum([mv_pred_t_ts[i] == y_dev[i] for i, j in enumerate(y_dev)])/len(y_dev)\n",
    "\n",
    "# Data augmentation scores\n",
    "sc_aug_c_tr, sc_aug_c_ts = cl_aug_c.score(x_train_aug_c, y_train_aug), cl_aug_c.score(x_dev_aug_c, y_dev)\n",
    "sc_aug_t_tr, sc_aug_t_ts = cl_aug_t.score(x_train_aug_t, y_train_aug), cl_aug_t.score(x_dev_aug_t, y_dev)\n",
    "sc_aug_c_w_tr, sc_aug_c_w_ts = cl_aug_c_w.score(x_train_aug_c, y_train_aug), cl_aug_c_w.score(x_dev_aug_c, y_dev)\n",
    "sc_aug_t_w_tr, sc_aug_t_w_ts = cl_aug_t_w.score(x_train_aug_t, y_train_aug), cl_aug_t_w.score(x_dev_aug_t, y_dev)\n",
    "# F1 scores\n",
    "f1_aug_c_tr, f1_aug_c_ts = f1_score(y_train_aug, cl_aug_c.predict(x_train_aug_c)), f1_score(y_dev, cl_aug_c.predict(x_dev_aug_c))\n",
    "f1_aug_t_tr, f1_aug_t_ts = f1_score(y_train_aug, cl_aug_t.predict(x_train_aug_t)), f1_score(y_dev, cl_aug_t.predict(x_dev_aug_t))\n",
    "f1_aug_c_w_tr, f1_aug_c_w_ts = f1_score(y_train_aug, cl_aug_c_w.predict(x_train_aug_c)), f1_score(y_dev, cl_aug_c_w.predict(x_dev_aug_c))\n",
    "f1_aug_t_w_tr, f1_aug_t_w_ts = f1_score(y_train_aug, cl_aug_t_w.predict(x_train_aug_t)), f1_score(y_dev, cl_aug_t_w.predict(x_dev_aug_t))\n",
    "\n",
    "# Print scores\n",
    "print(f'Model -MV using  Cvec:\\t\\t\\t\\t\\tval_acc: {mv_sc_c_ts:.3f}')\n",
    "print(f'Model -DA using  Cvec:\\t\\ttr_acc: {sc_aug_c_tr:.3f}\\tval_acc: {sc_aug_c_ts:.3f}\\ttr_F1\" {f1_aug_c_tr:.3f}\\tts_F1\" {f1_aug_c_ts:.3f}')\n",
    "print(f'Model -DA using  Cvec-w:\\ttr_acc: {sc_aug_c_w_tr:.3f}\\tval_acc: {sc_aug_c_w_ts:.3f}\\ttr_F1\" {f1_aug_t_tr:.3f}\\tts_F1\" {f1_aug_t_ts:.3f}')\n",
    "print()\n",
    "print(f'Model -MV using  Tvec:\\t\\t\\t\\t\\tvalid_acc: {mv_sc_t_ts:.3f}')\n",
    "print(f'Model -DA using  Tvec:\\t\\ttr_acc: {sc_aug_t_tr:.3f}\\tval_acc: {sc_aug_t_ts:.3f}\\ttr_F1\" {f1_aug_c_w_tr:.3f}\\tts_F1\" {f1_aug_c_w_ts:.3f}')\n",
    "print(f'Model -DA using  Tvec-w:\\ttr_acc: {sc_aug_t_w_tr:.3f}\\tval_acc: {sc_aug_t_w_ts:.3f}\\ttr_F1\" {f1_aug_t_w_tr:.3f}\\tts_F1\" {f1_aug_t_w_ts:.3f}')"
   ]
  },
  {
   "cell_type": "code",
   "execution_count": 12,
   "metadata": {},
   "outputs": [
    {
     "name": "stdout",
     "output_type": "stream",
     "text": [
      "              precision    recall  f1-score   support\n",
      "\n",
      "           0       0.88      0.94      0.91      3500\n",
      "           1       0.73      0.55      0.63      1000\n",
      "\n",
      "    accuracy                           0.86      4500\n",
      "   macro avg       0.81      0.75      0.77      4500\n",
      "weighted avg       0.85      0.86      0.85      4500\n",
      "\n"
     ]
    },
    {
     "data": {
      "image/png": "[encoded data removed]",
      "text/plain": [
       "<Figure size 640x480 with 2 Axes>"
      ]
     },
     "metadata": {},
     "output_type": "display_data"
    }
   ],
   "source": [
    "from sklearn.metrics import ConfusionMatrixDisplay, classification_report, confusion_matrix\n",
    "\n",
    "C = confusion_matrix(cl_aug_c.predict(x_dev_aug_t), y_dev)\n",
    "cm = ConfusionMatrixDisplay(confusion_matrix=C)\n",
    "cm.plot()\n",
    "print(classification_report(y_dev, cl_aug_t.predict(x_dev_aug_t)))"
   ]
  },
  {
   "attachments": {},
   "cell_type": "markdown",
   "metadata": {},
   "source": [
    "> The majority voting technique has worse performance than Data Augmentation in all the encoders applied. Thus, for the next steps this is the dataset to use."
   ]
  },
  {
   "attachments": {},
   "cell_type": "markdown",
   "metadata": {},
   "source": [
    "# Predict on sample data"
   ]
  },
  {
   "cell_type": "code",
   "execution_count": 30,
   "metadata": {},
   "outputs": [],
   "source": [
    "# Predict on sample data\n",
    "# Read data\n",
    "test = [re.sub(',', '',', '.join([str(x) for x in tok])) for tok in pd.read_json('test_data.json', lines=True)['text']]\n",
    "# Encoding\n",
    "x_test = Tvec3.transform(test)\n",
    "# Predict\n",
    "x_pred = cl_aug_t_w.predict(x_test)\n",
    "# Create DF\n",
    "df = pd.DataFrame([[i,j] for i,j in enumerate(x_pred)], columns=['id', 'class'])\n",
    "# Save file\n",
    "df.to_csv('predictions.csv', index=False)"
   ]
  },
  {
   "attachments": {},
   "cell_type": "markdown",
   "metadata": {},
   "source": [
    "# 3. Train SVM model"
   ]
  },
  {
   "cell_type": "markdown",
   "metadata": {},
   "source": []
  }
 ],
 "metadata": {
  "kernelspec": {
   "display_name": "venv",
   "language": "python",
   "name": "python3"
  },
  "language_info": {
   "codemirror_mode": {
    "name": "ipython",
    "version": 3
   },
   "file_extension": ".py",
   "mimetype": "text/x-python",
   "name": "python",
   "nbconvert_exporter": "python",
   "pygments_lexer": "ipython3",
   "version": "3.9.6"
  },
  "orig_nbformat": 4
 },
 "nbformat": 4,
 "nbformat_minor": 2
}
